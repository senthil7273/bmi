{
 "cells": [
  {
   "cell_type": "code",
   "execution_count": 1,
   "metadata": {},
   "outputs": [],
   "source": [
    "import numpy as np\n",
    "import pandas as pd\n",
    "import math\n",
    "\n",
    "from sklearn.pipeline import make_pipeline\n",
    "from sklearn.compose import ColumnTransformer\n",
    "from sklearn.preprocessing import StandardScaler, OneHotEncoder\n",
    "from sklearn.linear_model import LinearRegression, Lasso\n",
    "from sklearn.model_selection import train_test_split, GridSearchCV\n",
    "from sklearn.pipeline import Pipeline, FeatureUnion\n",
    "from sklearn.base import BaseEstimator, TransformerMixin\n",
    "from sklearn.metrics import mean_squared_error, r2_score\n",
    "from sklearn.compose import TransformedTargetRegressor\n",
    "\n",
    "import matplotlib.pyplot as plt\n",
    "import seaborn as sns\n",
    "%matplotlib inline"
   ]
  },
  {
   "cell_type": "markdown",
   "metadata": {},
   "source": [
    "### EDA & Feature Selection"
   ]
  },
  {
   "cell_type": "code",
   "execution_count": 2,
   "metadata": {},
   "outputs": [
    {
     "data": {
      "text/html": [
       "<div>\n",
       "<style scoped>\n",
       "    .dataframe tbody tr th:only-of-type {\n",
       "        vertical-align: middle;\n",
       "    }\n",
       "\n",
       "    .dataframe tbody tr th {\n",
       "        vertical-align: top;\n",
       "    }\n",
       "\n",
       "    .dataframe thead th {\n",
       "        text-align: right;\n",
       "    }\n",
       "</style>\n",
       "<table border=\"1\" class=\"dataframe\">\n",
       "  <thead>\n",
       "    <tr style=\"text-align: right;\">\n",
       "      <th></th>\n",
       "      <th>AppID</th>\n",
       "      <th>Ins_Age</th>\n",
       "      <th>Ins_Gender</th>\n",
       "      <th>Ht</th>\n",
       "      <th>Wt</th>\n",
       "      <th>IssueDate</th>\n",
       "    </tr>\n",
       "  </thead>\n",
       "  <tbody>\n",
       "    <tr>\n",
       "      <th>0</th>\n",
       "      <td>56372</td>\n",
       "      <td>31</td>\n",
       "      <td>Male</td>\n",
       "      <td>510</td>\n",
       "      <td>185</td>\n",
       "      <td>NaN</td>\n",
       "    </tr>\n",
       "    <tr>\n",
       "      <th>1</th>\n",
       "      <td>34565</td>\n",
       "      <td>35</td>\n",
       "      <td>Male</td>\n",
       "      <td>510</td>\n",
       "      <td>205</td>\n",
       "      <td>NaN</td>\n",
       "    </tr>\n",
       "    <tr>\n",
       "      <th>2</th>\n",
       "      <td>57732</td>\n",
       "      <td>45</td>\n",
       "      <td>Female</td>\n",
       "      <td>510</td>\n",
       "      <td>125</td>\n",
       "      <td>NaN</td>\n",
       "    </tr>\n",
       "    <tr>\n",
       "      <th>3</th>\n",
       "      <td>87324</td>\n",
       "      <td>38</td>\n",
       "      <td>Male</td>\n",
       "      <td>503</td>\n",
       "      <td>175</td>\n",
       "      <td>NaN</td>\n",
       "    </tr>\n",
       "    <tr>\n",
       "      <th>4</th>\n",
       "      <td>12323</td>\n",
       "      <td>39</td>\n",
       "      <td>Female</td>\n",
       "      <td>600</td>\n",
       "      <td>252</td>\n",
       "      <td>NaN</td>\n",
       "    </tr>\n",
       "  </tbody>\n",
       "</table>\n",
       "</div>"
      ],
      "text/plain": [
       "   AppID  Ins_Age Ins_Gender   Ht   Wt  IssueDate\n",
       "0  56372       31       Male  510  185        NaN\n",
       "1  34565       35       Male  510  205        NaN\n",
       "2  57732       45     Female  510  125        NaN\n",
       "3  87324       38       Male  503  175        NaN\n",
       "4  12323       39     Female  600  252        NaN"
      ]
     },
     "execution_count": 2,
     "metadata": {},
     "output_type": "execute_result"
    }
   ],
   "source": [
    "df_base = pd.read_csv(\"Dummy-Data.csv\")\n",
    "df_base.head()"
   ]
  },
  {
   "cell_type": "markdown",
   "metadata": {},
   "source": [
    "#### Renaming the feature names for better consistency"
   ]
  },
  {
   "cell_type": "code",
   "execution_count": 3,
   "metadata": {},
   "outputs": [],
   "source": [
    "df_base.rename(columns = {'AppID':'app_id', \n",
    "                'Ins_Age':'age', \n",
    "                'Ins_Gender':'gender', \n",
    "                'Ht': 'height',\n",
    "                'Wt':'weight',\n",
    "               'IssueDate':'issue_date'}, inplace=True)"
   ]
  },
  {
   "cell_type": "code",
   "execution_count": 4,
   "metadata": {},
   "outputs": [
    {
     "data": {
      "text/html": [
       "<div>\n",
       "<style scoped>\n",
       "    .dataframe tbody tr th:only-of-type {\n",
       "        vertical-align: middle;\n",
       "    }\n",
       "\n",
       "    .dataframe tbody tr th {\n",
       "        vertical-align: top;\n",
       "    }\n",
       "\n",
       "    .dataframe thead th {\n",
       "        text-align: right;\n",
       "    }\n",
       "</style>\n",
       "<table border=\"1\" class=\"dataframe\">\n",
       "  <thead>\n",
       "    <tr style=\"text-align: right;\">\n",
       "      <th></th>\n",
       "      <th>app_id</th>\n",
       "      <th>age</th>\n",
       "      <th>height</th>\n",
       "      <th>weight</th>\n",
       "      <th>issue_date</th>\n",
       "    </tr>\n",
       "  </thead>\n",
       "  <tbody>\n",
       "    <tr>\n",
       "      <th>count</th>\n",
       "      <td>100.000000</td>\n",
       "      <td>100.000000</td>\n",
       "      <td>100.000000</td>\n",
       "      <td>100.00000</td>\n",
       "      <td>0.0</td>\n",
       "    </tr>\n",
       "    <tr>\n",
       "      <th>mean</th>\n",
       "      <td>79455.570000</td>\n",
       "      <td>37.320000</td>\n",
       "      <td>527.720000</td>\n",
       "      <td>165.15000</td>\n",
       "      <td>NaN</td>\n",
       "    </tr>\n",
       "    <tr>\n",
       "      <th>std</th>\n",
       "      <td>31123.726942</td>\n",
       "      <td>12.103827</td>\n",
       "      <td>39.482787</td>\n",
       "      <td>27.66224</td>\n",
       "      <td>NaN</td>\n",
       "    </tr>\n",
       "    <tr>\n",
       "      <th>min</th>\n",
       "      <td>12123.000000</td>\n",
       "      <td>19.000000</td>\n",
       "      <td>500.000000</td>\n",
       "      <td>110.00000</td>\n",
       "      <td>NaN</td>\n",
       "    </tr>\n",
       "    <tr>\n",
       "      <th>25%</th>\n",
       "      <td>64296.000000</td>\n",
       "      <td>27.750000</td>\n",
       "      <td>506.000000</td>\n",
       "      <td>145.00000</td>\n",
       "      <td>NaN</td>\n",
       "    </tr>\n",
       "    <tr>\n",
       "      <th>50%</th>\n",
       "      <td>99444.500000</td>\n",
       "      <td>36.000000</td>\n",
       "      <td>509.000000</td>\n",
       "      <td>170.00000</td>\n",
       "      <td>NaN</td>\n",
       "    </tr>\n",
       "    <tr>\n",
       "      <th>75%</th>\n",
       "      <td>99917.000000</td>\n",
       "      <td>47.000000</td>\n",
       "      <td>511.000000</td>\n",
       "      <td>180.00000</td>\n",
       "      <td>NaN</td>\n",
       "    </tr>\n",
       "    <tr>\n",
       "      <th>max</th>\n",
       "      <td>100345.000000</td>\n",
       "      <td>59.000000</td>\n",
       "      <td>605.000000</td>\n",
       "      <td>275.00000</td>\n",
       "      <td>NaN</td>\n",
       "    </tr>\n",
       "  </tbody>\n",
       "</table>\n",
       "</div>"
      ],
      "text/plain": [
       "              app_id         age      height     weight  issue_date\n",
       "count     100.000000  100.000000  100.000000  100.00000         0.0\n",
       "mean    79455.570000   37.320000  527.720000  165.15000         NaN\n",
       "std     31123.726942   12.103827   39.482787   27.66224         NaN\n",
       "min     12123.000000   19.000000  500.000000  110.00000         NaN\n",
       "25%     64296.000000   27.750000  506.000000  145.00000         NaN\n",
       "50%     99444.500000   36.000000  509.000000  170.00000         NaN\n",
       "75%     99917.000000   47.000000  511.000000  180.00000         NaN\n",
       "max    100345.000000   59.000000  605.000000  275.00000         NaN"
      ]
     },
     "execution_count": 4,
     "metadata": {},
     "output_type": "execute_result"
    }
   ],
   "source": [
    "df_base.describe()"
   ]
  },
  {
   "cell_type": "code",
   "execution_count": 5,
   "metadata": {},
   "outputs": [
    {
     "name": "stdout",
     "output_type": "stream",
     "text": [
      "<class 'pandas.core.frame.DataFrame'>\n",
      "RangeIndex: 100 entries, 0 to 99\n",
      "Data columns (total 6 columns):\n",
      " #   Column      Non-Null Count  Dtype  \n",
      "---  ------      --------------  -----  \n",
      " 0   app_id      100 non-null    int64  \n",
      " 1   age         100 non-null    int64  \n",
      " 2   gender      100 non-null    object \n",
      " 3   height      100 non-null    int64  \n",
      " 4   weight      100 non-null    int64  \n",
      " 5   issue_date  0 non-null      float64\n",
      "dtypes: float64(1), int64(4), object(1)\n",
      "memory usage: 4.8+ KB\n"
     ]
    }
   ],
   "source": [
    "df_base.info()"
   ]
  },
  {
   "cell_type": "markdown",
   "metadata": {},
   "source": [
    "#### Based on the info above, none of the no missing avlues, except issue_date. issue_date is empty for all instances, which doesnt help to identify the age of the instance(s) or the data. so, dropping this feature"
   ]
  },
  {
   "cell_type": "code",
   "execution_count": 6,
   "metadata": {},
   "outputs": [],
   "source": [
    "df_base.drop([\"issue_date\"], axis=1, inplace=True)"
   ]
  },
  {
   "cell_type": "code",
   "execution_count": 7,
   "metadata": {},
   "outputs": [
    {
     "data": {
      "text/html": [
       "<div>\n",
       "<style scoped>\n",
       "    .dataframe tbody tr th:only-of-type {\n",
       "        vertical-align: middle;\n",
       "    }\n",
       "\n",
       "    .dataframe tbody tr th {\n",
       "        vertical-align: top;\n",
       "    }\n",
       "\n",
       "    .dataframe thead th {\n",
       "        text-align: right;\n",
       "    }\n",
       "</style>\n",
       "<table border=\"1\" class=\"dataframe\">\n",
       "  <thead>\n",
       "    <tr style=\"text-align: right;\">\n",
       "      <th></th>\n",
       "      <th>app_id</th>\n",
       "      <th>age</th>\n",
       "      <th>gender</th>\n",
       "      <th>height</th>\n",
       "      <th>weight</th>\n",
       "    </tr>\n",
       "  </thead>\n",
       "  <tbody>\n",
       "    <tr>\n",
       "      <th>95</th>\n",
       "      <td>99511</td>\n",
       "      <td>35</td>\n",
       "      <td>Male</td>\n",
       "      <td>510</td>\n",
       "      <td>275</td>\n",
       "    </tr>\n",
       "    <tr>\n",
       "      <th>96</th>\n",
       "      <td>23781</td>\n",
       "      <td>27</td>\n",
       "      <td>Male</td>\n",
       "      <td>604</td>\n",
       "      <td>145</td>\n",
       "    </tr>\n",
       "    <tr>\n",
       "      <th>97</th>\n",
       "      <td>99517</td>\n",
       "      <td>35</td>\n",
       "      <td>Female</td>\n",
       "      <td>507</td>\n",
       "      <td>190</td>\n",
       "    </tr>\n",
       "    <tr>\n",
       "      <th>98</th>\n",
       "      <td>99520</td>\n",
       "      <td>38</td>\n",
       "      <td>Female</td>\n",
       "      <td>510</td>\n",
       "      <td>144</td>\n",
       "    </tr>\n",
       "    <tr>\n",
       "      <th>99</th>\n",
       "      <td>99516</td>\n",
       "      <td>52</td>\n",
       "      <td>Female</td>\n",
       "      <td>510</td>\n",
       "      <td>125</td>\n",
       "    </tr>\n",
       "  </tbody>\n",
       "</table>\n",
       "</div>"
      ],
      "text/plain": [
       "    app_id  age  gender  height  weight\n",
       "95   99511   35    Male     510     275\n",
       "96   23781   27    Male     604     145\n",
       "97   99517   35  Female     507     190\n",
       "98   99520   38  Female     510     144\n",
       "99   99516   52  Female     510     125"
      ]
     },
     "execution_count": 7,
     "metadata": {},
     "output_type": "execute_result"
    }
   ],
   "source": [
    "df_base.tail()"
   ]
  },
  {
   "cell_type": "code",
   "execution_count": 8,
   "metadata": {},
   "outputs": [
    {
     "data": {
      "text/plain": [
       "0     False\n",
       "1     False\n",
       "2     False\n",
       "3     False\n",
       "4     False\n",
       "      ...  \n",
       "95     True\n",
       "96    False\n",
       "97     True\n",
       "98     True\n",
       "99     True\n",
       "Name: app_id, Length: 100, dtype: bool"
      ]
     },
     "execution_count": 8,
     "metadata": {},
     "output_type": "execute_result"
    }
   ],
   "source": [
    "df_base[\"app_id\"].duplicated()"
   ]
  },
  {
   "cell_type": "markdown",
   "metadata": {},
   "source": [
    "#### Here is the list of dupplicate rows based on the key app_id, whihc may lead to data leaks in the pipeline. Duplicate rows to be removed."
   ]
  },
  {
   "cell_type": "code",
   "execution_count": 9,
   "metadata": {},
   "outputs": [
    {
     "data": {
      "text/html": [
       "<div>\n",
       "<style scoped>\n",
       "    .dataframe tbody tr th:only-of-type {\n",
       "        vertical-align: middle;\n",
       "    }\n",
       "\n",
       "    .dataframe tbody tr th {\n",
       "        vertical-align: top;\n",
       "    }\n",
       "\n",
       "    .dataframe thead th {\n",
       "        text-align: right;\n",
       "    }\n",
       "</style>\n",
       "<table border=\"1\" class=\"dataframe\">\n",
       "  <thead>\n",
       "    <tr style=\"text-align: right;\">\n",
       "      <th></th>\n",
       "      <th>app_id</th>\n",
       "      <th>age</th>\n",
       "      <th>gender</th>\n",
       "      <th>height</th>\n",
       "      <th>weight</th>\n",
       "    </tr>\n",
       "  </thead>\n",
       "  <tbody>\n",
       "    <tr>\n",
       "      <th>33</th>\n",
       "      <td>93587</td>\n",
       "      <td>19</td>\n",
       "      <td>Male</td>\n",
       "      <td>601</td>\n",
       "      <td>180</td>\n",
       "    </tr>\n",
       "    <tr>\n",
       "      <th>54</th>\n",
       "      <td>99917</td>\n",
       "      <td>26</td>\n",
       "      <td>Male</td>\n",
       "      <td>503</td>\n",
       "      <td>180</td>\n",
       "    </tr>\n",
       "    <tr>\n",
       "      <th>55</th>\n",
       "      <td>99918</td>\n",
       "      <td>47</td>\n",
       "      <td>Male</td>\n",
       "      <td>602</td>\n",
       "      <td>160</td>\n",
       "    </tr>\n",
       "    <tr>\n",
       "      <th>56</th>\n",
       "      <td>99946</td>\n",
       "      <td>24</td>\n",
       "      <td>Male</td>\n",
       "      <td>604</td>\n",
       "      <td>180</td>\n",
       "    </tr>\n",
       "    <tr>\n",
       "      <th>58</th>\n",
       "      <td>99947</td>\n",
       "      <td>19</td>\n",
       "      <td>Male</td>\n",
       "      <td>510</td>\n",
       "      <td>150</td>\n",
       "    </tr>\n",
       "    <tr>\n",
       "      <th>61</th>\n",
       "      <td>99875</td>\n",
       "      <td>49</td>\n",
       "      <td>Male</td>\n",
       "      <td>508</td>\n",
       "      <td>160</td>\n",
       "    </tr>\n",
       "    <tr>\n",
       "      <th>62</th>\n",
       "      <td>99917</td>\n",
       "      <td>30</td>\n",
       "      <td>Male</td>\n",
       "      <td>508</td>\n",
       "      <td>160</td>\n",
       "    </tr>\n",
       "    <tr>\n",
       "      <th>63</th>\n",
       "      <td>99918</td>\n",
       "      <td>21</td>\n",
       "      <td>Male</td>\n",
       "      <td>503</td>\n",
       "      <td>160</td>\n",
       "    </tr>\n",
       "    <tr>\n",
       "      <th>64</th>\n",
       "      <td>99946</td>\n",
       "      <td>40</td>\n",
       "      <td>Male</td>\n",
       "      <td>503</td>\n",
       "      <td>180</td>\n",
       "    </tr>\n",
       "    <tr>\n",
       "      <th>65</th>\n",
       "      <td>99947</td>\n",
       "      <td>47</td>\n",
       "      <td>Male</td>\n",
       "      <td>602</td>\n",
       "      <td>120</td>\n",
       "    </tr>\n",
       "    <tr>\n",
       "      <th>69</th>\n",
       "      <td>99875</td>\n",
       "      <td>45</td>\n",
       "      <td>Male</td>\n",
       "      <td>509</td>\n",
       "      <td>160</td>\n",
       "    </tr>\n",
       "    <tr>\n",
       "      <th>70</th>\n",
       "      <td>99917</td>\n",
       "      <td>37</td>\n",
       "      <td>Male</td>\n",
       "      <td>506</td>\n",
       "      <td>160</td>\n",
       "    </tr>\n",
       "    <tr>\n",
       "      <th>71</th>\n",
       "      <td>99918</td>\n",
       "      <td>49</td>\n",
       "      <td>Male</td>\n",
       "      <td>508</td>\n",
       "      <td>180</td>\n",
       "    </tr>\n",
       "    <tr>\n",
       "      <th>72</th>\n",
       "      <td>99946</td>\n",
       "      <td>30</td>\n",
       "      <td>Male</td>\n",
       "      <td>508</td>\n",
       "      <td>140</td>\n",
       "    </tr>\n",
       "    <tr>\n",
       "      <th>73</th>\n",
       "      <td>99947</td>\n",
       "      <td>21</td>\n",
       "      <td>Male</td>\n",
       "      <td>503</td>\n",
       "      <td>144</td>\n",
       "    </tr>\n",
       "    <tr>\n",
       "      <th>88</th>\n",
       "      <td>99520</td>\n",
       "      <td>21</td>\n",
       "      <td>Female</td>\n",
       "      <td>506</td>\n",
       "      <td>175</td>\n",
       "    </tr>\n",
       "    <tr>\n",
       "      <th>89</th>\n",
       "      <td>99516</td>\n",
       "      <td>42</td>\n",
       "      <td>Female</td>\n",
       "      <td>511</td>\n",
       "      <td>160</td>\n",
       "    </tr>\n",
       "    <tr>\n",
       "      <th>90</th>\n",
       "      <td>93077</td>\n",
       "      <td>50</td>\n",
       "      <td>Male</td>\n",
       "      <td>510</td>\n",
       "      <td>121</td>\n",
       "    </tr>\n",
       "    <tr>\n",
       "      <th>91</th>\n",
       "      <td>99513</td>\n",
       "      <td>55</td>\n",
       "      <td>Male</td>\n",
       "      <td>605</td>\n",
       "      <td>180</td>\n",
       "    </tr>\n",
       "    <tr>\n",
       "      <th>92</th>\n",
       "      <td>99497</td>\n",
       "      <td>38</td>\n",
       "      <td>Male</td>\n",
       "      <td>503</td>\n",
       "      <td>140</td>\n",
       "    </tr>\n",
       "    <tr>\n",
       "      <th>95</th>\n",
       "      <td>99511</td>\n",
       "      <td>35</td>\n",
       "      <td>Male</td>\n",
       "      <td>510</td>\n",
       "      <td>275</td>\n",
       "    </tr>\n",
       "    <tr>\n",
       "      <th>97</th>\n",
       "      <td>99517</td>\n",
       "      <td>35</td>\n",
       "      <td>Female</td>\n",
       "      <td>507</td>\n",
       "      <td>190</td>\n",
       "    </tr>\n",
       "    <tr>\n",
       "      <th>98</th>\n",
       "      <td>99520</td>\n",
       "      <td>38</td>\n",
       "      <td>Female</td>\n",
       "      <td>510</td>\n",
       "      <td>144</td>\n",
       "    </tr>\n",
       "    <tr>\n",
       "      <th>99</th>\n",
       "      <td>99516</td>\n",
       "      <td>52</td>\n",
       "      <td>Female</td>\n",
       "      <td>510</td>\n",
       "      <td>125</td>\n",
       "    </tr>\n",
       "  </tbody>\n",
       "</table>\n",
       "</div>"
      ],
      "text/plain": [
       "    app_id  age  gender  height  weight\n",
       "33   93587   19    Male     601     180\n",
       "54   99917   26    Male     503     180\n",
       "55   99918   47    Male     602     160\n",
       "56   99946   24    Male     604     180\n",
       "58   99947   19    Male     510     150\n",
       "61   99875   49    Male     508     160\n",
       "62   99917   30    Male     508     160\n",
       "63   99918   21    Male     503     160\n",
       "64   99946   40    Male     503     180\n",
       "65   99947   47    Male     602     120\n",
       "69   99875   45    Male     509     160\n",
       "70   99917   37    Male     506     160\n",
       "71   99918   49    Male     508     180\n",
       "72   99946   30    Male     508     140\n",
       "73   99947   21    Male     503     144\n",
       "88   99520   21  Female     506     175\n",
       "89   99516   42  Female     511     160\n",
       "90   93077   50    Male     510     121\n",
       "91   99513   55    Male     605     180\n",
       "92   99497   38    Male     503     140\n",
       "95   99511   35    Male     510     275\n",
       "97   99517   35  Female     507     190\n",
       "98   99520   38  Female     510     144\n",
       "99   99516   52  Female     510     125"
      ]
     },
     "execution_count": 9,
     "metadata": {},
     "output_type": "execute_result"
    }
   ],
   "source": [
    "df_base[df_base.duplicated(['app_id'], keep='first')]"
   ]
  },
  {
   "cell_type": "markdown",
   "metadata": {},
   "source": [
    "#### Drop the duplicate rows based on app_id feature"
   ]
  },
  {
   "cell_type": "code",
   "execution_count": 10,
   "metadata": {},
   "outputs": [],
   "source": [
    "df_base = df_base.drop_duplicates(subset=['app_id'])"
   ]
  },
  {
   "cell_type": "markdown",
   "metadata": {},
   "source": [
    "#### No duplicates now"
   ]
  },
  {
   "cell_type": "code",
   "execution_count": 11,
   "metadata": {},
   "outputs": [
    {
     "data": {
      "text/html": [
       "<div>\n",
       "<style scoped>\n",
       "    .dataframe tbody tr th:only-of-type {\n",
       "        vertical-align: middle;\n",
       "    }\n",
       "\n",
       "    .dataframe tbody tr th {\n",
       "        vertical-align: top;\n",
       "    }\n",
       "\n",
       "    .dataframe thead th {\n",
       "        text-align: right;\n",
       "    }\n",
       "</style>\n",
       "<table border=\"1\" class=\"dataframe\">\n",
       "  <thead>\n",
       "    <tr style=\"text-align: right;\">\n",
       "      <th></th>\n",
       "      <th>app_id</th>\n",
       "      <th>age</th>\n",
       "      <th>gender</th>\n",
       "      <th>height</th>\n",
       "      <th>weight</th>\n",
       "    </tr>\n",
       "  </thead>\n",
       "  <tbody>\n",
       "  </tbody>\n",
       "</table>\n",
       "</div>"
      ],
      "text/plain": [
       "Empty DataFrame\n",
       "Columns: [app_id, age, gender, height, weight]\n",
       "Index: []"
      ]
     },
     "execution_count": 11,
     "metadata": {},
     "output_type": "execute_result"
    }
   ],
   "source": [
    "df_base[df_base.duplicated(['app_id'], keep='first')]"
   ]
  },
  {
   "cell_type": "code",
   "execution_count": 12,
   "metadata": {},
   "outputs": [
    {
     "data": {
      "text/html": [
       "<div>\n",
       "<style scoped>\n",
       "    .dataframe tbody tr th:only-of-type {\n",
       "        vertical-align: middle;\n",
       "    }\n",
       "\n",
       "    .dataframe tbody tr th {\n",
       "        vertical-align: top;\n",
       "    }\n",
       "\n",
       "    .dataframe thead th {\n",
       "        text-align: right;\n",
       "    }\n",
       "</style>\n",
       "<table border=\"1\" class=\"dataframe\">\n",
       "  <thead>\n",
       "    <tr style=\"text-align: right;\">\n",
       "      <th></th>\n",
       "      <th>app_id</th>\n",
       "      <th>age</th>\n",
       "      <th>gender</th>\n",
       "      <th>height</th>\n",
       "      <th>weight</th>\n",
       "      <th>bmi</th>\n",
       "    </tr>\n",
       "  </thead>\n",
       "  <tbody>\n",
       "    <tr>\n",
       "      <th>0</th>\n",
       "      <td>56372</td>\n",
       "      <td>31</td>\n",
       "      <td>Male</td>\n",
       "      <td>510</td>\n",
       "      <td>185</td>\n",
       "      <td>0</td>\n",
       "    </tr>\n",
       "    <tr>\n",
       "      <th>1</th>\n",
       "      <td>34565</td>\n",
       "      <td>35</td>\n",
       "      <td>Male</td>\n",
       "      <td>510</td>\n",
       "      <td>205</td>\n",
       "      <td>0</td>\n",
       "    </tr>\n",
       "    <tr>\n",
       "      <th>2</th>\n",
       "      <td>57732</td>\n",
       "      <td>45</td>\n",
       "      <td>Female</td>\n",
       "      <td>510</td>\n",
       "      <td>125</td>\n",
       "      <td>0</td>\n",
       "    </tr>\n",
       "    <tr>\n",
       "      <th>3</th>\n",
       "      <td>87324</td>\n",
       "      <td>38</td>\n",
       "      <td>Male</td>\n",
       "      <td>503</td>\n",
       "      <td>175</td>\n",
       "      <td>0</td>\n",
       "    </tr>\n",
       "    <tr>\n",
       "      <th>4</th>\n",
       "      <td>12323</td>\n",
       "      <td>39</td>\n",
       "      <td>Female</td>\n",
       "      <td>600</td>\n",
       "      <td>252</td>\n",
       "      <td>0</td>\n",
       "    </tr>\n",
       "  </tbody>\n",
       "</table>\n",
       "</div>"
      ],
      "text/plain": [
       "   app_id  age  gender  height  weight  bmi\n",
       "0   56372   31    Male     510     185    0\n",
       "1   34565   35    Male     510     205    0\n",
       "2   57732   45  Female     510     125    0\n",
       "3   87324   38    Male     503     175    0\n",
       "4   12323   39  Female     600     252    0"
      ]
     },
     "execution_count": 12,
     "metadata": {},
     "output_type": "execute_result"
    }
   ],
   "source": [
    "df_base[\"bmi\"] = 0\n",
    "df_base.head()"
   ]
  },
  {
   "cell_type": "markdown",
   "metadata": {},
   "source": [
    "#### Checking the value of height in the dataset -  minimum & the maximum "
   ]
  },
  {
   "cell_type": "code",
   "execution_count": 13,
   "metadata": {},
   "outputs": [
    {
     "data": {
      "text/plain": [
       "500"
      ]
     },
     "execution_count": 13,
     "metadata": {},
     "output_type": "execute_result"
    }
   ],
   "source": [
    "df_base['height'].min()"
   ]
  },
  {
   "cell_type": "code",
   "execution_count": 14,
   "metadata": {},
   "outputs": [
    {
     "data": {
      "text/plain": [
       "604"
      ]
     },
     "execution_count": 14,
     "metadata": {},
     "output_type": "execute_result"
    }
   ],
   "source": [
    "df_base['height'].max()"
   ]
  },
  {
   "cell_type": "markdown",
   "metadata": {},
   "source": [
    "#### Checking the value of weight in the dataset - minimum & the maximum"
   ]
  },
  {
   "cell_type": "code",
   "execution_count": 15,
   "metadata": {},
   "outputs": [
    {
     "name": "stdout",
     "output_type": "stream",
     "text": [
      "110\n",
      "252\n"
     ]
    }
   ],
   "source": [
    "print(df_base['weight'].min())\n",
    "print(df_base['weight'].max())"
   ]
  },
  {
   "cell_type": "code",
   "execution_count": 16,
   "metadata": {},
   "outputs": [
    {
     "name": "stdout",
     "output_type": "stream",
     "text": [
      "<class 'pandas.core.frame.DataFrame'>\n",
      "Int64Index: 76 entries, 0 to 96\n",
      "Data columns (total 6 columns):\n",
      " #   Column  Non-Null Count  Dtype \n",
      "---  ------  --------------  ----- \n",
      " 0   app_id  76 non-null     int64 \n",
      " 1   age     76 non-null     int64 \n",
      " 2   gender  76 non-null     object\n",
      " 3   height  76 non-null     int64 \n",
      " 4   weight  76 non-null     int64 \n",
      " 5   bmi     76 non-null     int64 \n",
      "dtypes: int64(5), object(1)\n",
      "memory usage: 4.2+ KB\n"
     ]
    }
   ],
   "source": [
    "df_base.info()"
   ]
  },
  {
   "cell_type": "code",
   "execution_count": 17,
   "metadata": {},
   "outputs": [],
   "source": [
    "seed = 45\n",
    "\n",
    "X_train_p, X_test_p, y_train_p, y_test_p = train_test_split(df_base.drop(columns=['bmi']), \n",
    "                                                    df_base['bmi'], \n",
    "                                                    test_size=.2, \n",
    "                                                    random_state=seed)"
   ]
  },
  {
   "cell_type": "code",
   "execution_count": 18,
   "metadata": {},
   "outputs": [
    {
     "data": {
      "text/plain": [
       "False"
      ]
     },
     "execution_count": 18,
     "metadata": {},
     "output_type": "execute_result"
    }
   ],
   "source": [
    "df_base.isnull().values.any()"
   ]
  },
  {
   "cell_type": "code",
   "execution_count": 19,
   "metadata": {},
   "outputs": [
    {
     "data": {
      "text/html": [
       "<div>\n",
       "<style scoped>\n",
       "    .dataframe tbody tr th:only-of-type {\n",
       "        vertical-align: middle;\n",
       "    }\n",
       "\n",
       "    .dataframe tbody tr th {\n",
       "        vertical-align: top;\n",
       "    }\n",
       "\n",
       "    .dataframe thead th {\n",
       "        text-align: right;\n",
       "    }\n",
       "</style>\n",
       "<table border=\"1\" class=\"dataframe\">\n",
       "  <thead>\n",
       "    <tr style=\"text-align: right;\">\n",
       "      <th></th>\n",
       "      <th>app_id</th>\n",
       "      <th>age</th>\n",
       "      <th>gender</th>\n",
       "      <th>height</th>\n",
       "      <th>weight</th>\n",
       "    </tr>\n",
       "  </thead>\n",
       "  <tbody>\n",
       "    <tr>\n",
       "      <th>20</th>\n",
       "      <td>100336</td>\n",
       "      <td>36</td>\n",
       "      <td>Male</td>\n",
       "      <td>508</td>\n",
       "      <td>180</td>\n",
       "    </tr>\n",
       "    <tr>\n",
       "      <th>28</th>\n",
       "      <td>13545</td>\n",
       "      <td>19</td>\n",
       "      <td>Female</td>\n",
       "      <td>601</td>\n",
       "      <td>170</td>\n",
       "    </tr>\n",
       "    <tr>\n",
       "      <th>53</th>\n",
       "      <td>99947</td>\n",
       "      <td>57</td>\n",
       "      <td>Male</td>\n",
       "      <td>503</td>\n",
       "      <td>180</td>\n",
       "    </tr>\n",
       "    <tr>\n",
       "      <th>21</th>\n",
       "      <td>93580</td>\n",
       "      <td>45</td>\n",
       "      <td>Male</td>\n",
       "      <td>508</td>\n",
       "      <td>165</td>\n",
       "    </tr>\n",
       "    <tr>\n",
       "      <th>41</th>\n",
       "      <td>99498</td>\n",
       "      <td>19</td>\n",
       "      <td>Male</td>\n",
       "      <td>507</td>\n",
       "      <td>180</td>\n",
       "    </tr>\n",
       "  </tbody>\n",
       "</table>\n",
       "</div>"
      ],
      "text/plain": [
       "    app_id  age  gender  height  weight\n",
       "20  100336   36    Male     508     180\n",
       "28   13545   19  Female     601     170\n",
       "53   99947   57    Male     503     180\n",
       "21   93580   45    Male     508     165\n",
       "41   99498   19    Male     507     180"
      ]
     },
     "execution_count": 19,
     "metadata": {},
     "output_type": "execute_result"
    }
   ],
   "source": [
    "X_train_p.head()"
   ]
  },
  {
   "cell_type": "markdown",
   "metadata": {},
   "source": [
    "Since there is no missing values or null data, Transformers is used convert Pounds to Kg, Inch to Meter Square & calculate BMI.\n",
    "\n",
    "Later on, if we get any mixed metrics such as kg, pound, ounces, inches, feet, meter from different datasources, these trasformers can be extended or updated to support it."
   ]
  },
  {
   "cell_type": "code",
   "execution_count": 20,
   "metadata": {},
   "outputs": [],
   "source": [
    "class HeightTransformer(BaseEstimator, TransformerMixin):\n",
    "    # initializer \n",
    "    def __init__(self, columns):\n",
    "        # save the features list internally in the class\n",
    "        self.columns = columns\n",
    "       \n",
    "    def fit(self, X, y = None):\n",
    "        return self\n",
    "    \n",
    "    def transform(self, X, y = None):\n",
    "        # return the dataframe with the specified features\n",
    "        X_c = X.copy()\n",
    "        X_c[self.columns] =  (X[self.columns] / 100) * 0.3048\n",
    "        return X_c\n",
    "    \n",
    "class WeightTransformer(BaseEstimator, TransformerMixin):\n",
    "    # initializer \n",
    "    def __init__(self, columns):\n",
    "        # save the features list internally in the class\n",
    "        self.columns = columns\n",
    "        \n",
    "    def fit(self, X, y = None): \n",
    "        return self\n",
    "    \n",
    "    def transform(self, X, y = None):\n",
    "        # return the dataframe \n",
    "        X_c = X.copy()\n",
    "        X_c[self.columns] =  X[self.columns] * 0.453592\n",
    "        return X_c\n",
    "    \n",
    "class BmiTransformer(BaseEstimator, TransformerMixin):\n",
    "    # initializer \n",
    "    column_bmi = \"bmi\"\n",
    "    def __init__(self, columns):\n",
    "        # save the features list internally in the class\n",
    "        self.columns = columns\n",
    "        \n",
    "    def fit(self, X, y = None): \n",
    "        return self\n",
    "    \n",
    "    def transform(self, X, y = None):\n",
    "        # return the dataframe \n",
    "        X_c = X.copy()\n",
    "        # bmi = weight in kg/ height in meter square\n",
    "        X_c[self.column_bmi] = X_c[self.columns[1]] / X_c[self.columns[0]] \n",
    "        print(X_c)\n",
    "        return X_c"
   ]
  },
  {
   "cell_type": "code",
   "execution_count": 21,
   "metadata": {},
   "outputs": [],
   "source": [
    "numeric_features = ['height', 'weight', 'age', 'app_id']\n",
    "metrics_transformer = Pipeline(\n",
    "                        steps=[(\"transforms height\", HeightTransformer(numeric_features[0])),\n",
    "                               (\"transforms weight\", WeightTransformer(numeric_features[1]))]\n",
    "                        )\n",
    "\n",
    "categorical_features = ['gender']\n",
    "cat_transformer = OneHotEncoder(handle_unknown=\"ignore\")\n",
    "\n",
    "preprocessor = ColumnTransformer(\n",
    "    transformers=[\n",
    "        (\"metrics\", metrics_transformer, numeric_features),\n",
    "    ]\n",
    ")\n",
    "\n",
    "cat_preprocessor = ColumnTransformer(\n",
    "    transformers=[\n",
    "        (\"gender\", cat_transformer, categorical_features),\n",
    "    ]\n",
    ")\n",
    "\n",
    "# pipeine for numerical features\n",
    "metrics_pipeline = Pipeline(\n",
    "    steps=[(\"preprocessor\", preprocessor)]\n",
    ")\n",
    "\n",
    "#pipline for categorical features\n",
    "cat_pipeline = Pipeline(\n",
    "    steps=[(\"cat preprocessor\", cat_preprocessor)]\n",
    ")\n"
   ]
  },
  {
   "cell_type": "code",
   "execution_count": null,
   "metadata": {},
   "outputs": [],
   "source": []
  },
  {
   "cell_type": "code",
   "execution_count": 22,
   "metadata": {},
   "outputs": [],
   "source": [
    "u = FeatureUnion([('categorical',cat_pipeline),\n",
    "                 ('numerics', metrics_pipeline)])"
   ]
  },
  {
   "cell_type": "code",
   "execution_count": 23,
   "metadata": {},
   "outputs": [],
   "source": [
    "train_data = u.fit_transform(X_train_p)\n",
    "test_data = u.transform(X_test_p)"
   ]
  },
  {
   "cell_type": "code",
   "execution_count": 24,
   "metadata": {},
   "outputs": [
    {
     "name": "stdout",
     "output_type": "stream",
     "text": [
      "['gender__x0_Female', 'gender__x0_Male']\n",
      "['height', 'weight', 'age', 'app_id']\n",
      "['gender__x0_Female' 'gender__x0_Male' 'height' 'weight' 'age' 'app_id']\n"
     ]
    },
    {
     "name": "stderr",
     "output_type": "stream",
     "text": [
      "C:\\Users\\91995\\anaconda3\\lib\\site-packages\\sklearn\\utils\\deprecation.py:87: FutureWarning: Function get_feature_names is deprecated; get_feature_names is deprecated in 1.0 and will be removed in 1.2. Please use get_feature_names_out instead.\n",
      "  warnings.warn(msg, category=FutureWarning)\n"
     ]
    }
   ],
   "source": [
    "\n",
    "cat_columns = cat_preprocessor.get_feature_names()\n",
    "print(cat_columns)\n",
    "print(numeric_features)\n",
    "columns = np.concatenate((cat_columns, numeric_features))\n",
    "print(columns)"
   ]
  },
  {
   "cell_type": "code",
   "execution_count": 25,
   "metadata": {},
   "outputs": [],
   "source": [
    "df_train = pd.DataFrame(train_data, columns=columns)\n",
    "df_test = pd.DataFrame(test_data, columns=columns)\n",
    "df_train['bmi'] = 0\n",
    "df_test['bmi'] = 0"
   ]
  },
  {
   "cell_type": "code",
   "execution_count": 26,
   "metadata": {},
   "outputs": [
    {
     "data": {
      "text/html": [
       "<div>\n",
       "<style scoped>\n",
       "    .dataframe tbody tr th:only-of-type {\n",
       "        vertical-align: middle;\n",
       "    }\n",
       "\n",
       "    .dataframe tbody tr th {\n",
       "        vertical-align: top;\n",
       "    }\n",
       "\n",
       "    .dataframe thead th {\n",
       "        text-align: right;\n",
       "    }\n",
       "</style>\n",
       "<table border=\"1\" class=\"dataframe\">\n",
       "  <thead>\n",
       "    <tr style=\"text-align: right;\">\n",
       "      <th></th>\n",
       "      <th>gender__x0_Female</th>\n",
       "      <th>gender__x0_Male</th>\n",
       "      <th>height</th>\n",
       "      <th>weight</th>\n",
       "      <th>age</th>\n",
       "      <th>app_id</th>\n",
       "      <th>bmi</th>\n",
       "    </tr>\n",
       "  </thead>\n",
       "  <tbody>\n",
       "    <tr>\n",
       "      <th>0</th>\n",
       "      <td>0.0</td>\n",
       "      <td>1.0</td>\n",
       "      <td>1.548384</td>\n",
       "      <td>81.64656</td>\n",
       "      <td>36.0</td>\n",
       "      <td>100336.0</td>\n",
       "      <td>0</td>\n",
       "    </tr>\n",
       "    <tr>\n",
       "      <th>1</th>\n",
       "      <td>1.0</td>\n",
       "      <td>0.0</td>\n",
       "      <td>1.831848</td>\n",
       "      <td>77.11064</td>\n",
       "      <td>19.0</td>\n",
       "      <td>13545.0</td>\n",
       "      <td>0</td>\n",
       "    </tr>\n",
       "    <tr>\n",
       "      <th>2</th>\n",
       "      <td>0.0</td>\n",
       "      <td>1.0</td>\n",
       "      <td>1.533144</td>\n",
       "      <td>81.64656</td>\n",
       "      <td>57.0</td>\n",
       "      <td>99947.0</td>\n",
       "      <td>0</td>\n",
       "    </tr>\n",
       "    <tr>\n",
       "      <th>3</th>\n",
       "      <td>0.0</td>\n",
       "      <td>1.0</td>\n",
       "      <td>1.548384</td>\n",
       "      <td>74.84268</td>\n",
       "      <td>45.0</td>\n",
       "      <td>93580.0</td>\n",
       "      <td>0</td>\n",
       "    </tr>\n",
       "    <tr>\n",
       "      <th>4</th>\n",
       "      <td>0.0</td>\n",
       "      <td>1.0</td>\n",
       "      <td>1.545336</td>\n",
       "      <td>81.64656</td>\n",
       "      <td>19.0</td>\n",
       "      <td>99498.0</td>\n",
       "      <td>0</td>\n",
       "    </tr>\n",
       "  </tbody>\n",
       "</table>\n",
       "</div>"
      ],
      "text/plain": [
       "   gender__x0_Female  gender__x0_Male    height    weight   age    app_id  bmi\n",
       "0                0.0              1.0  1.548384  81.64656  36.0  100336.0    0\n",
       "1                1.0              0.0  1.831848  77.11064  19.0   13545.0    0\n",
       "2                0.0              1.0  1.533144  81.64656  57.0   99947.0    0\n",
       "3                0.0              1.0  1.548384  74.84268  45.0   93580.0    0\n",
       "4                0.0              1.0  1.545336  81.64656  19.0   99498.0    0"
      ]
     },
     "execution_count": 26,
     "metadata": {},
     "output_type": "execute_result"
    }
   ],
   "source": [
    "df_train.head()"
   ]
  },
  {
   "cell_type": "code",
   "execution_count": 27,
   "metadata": {},
   "outputs": [
    {
     "data": {
      "text/html": [
       "<div>\n",
       "<style scoped>\n",
       "    .dataframe tbody tr th:only-of-type {\n",
       "        vertical-align: middle;\n",
       "    }\n",
       "\n",
       "    .dataframe tbody tr th {\n",
       "        vertical-align: top;\n",
       "    }\n",
       "\n",
       "    .dataframe thead th {\n",
       "        text-align: right;\n",
       "    }\n",
       "</style>\n",
       "<table border=\"1\" class=\"dataframe\">\n",
       "  <thead>\n",
       "    <tr style=\"text-align: right;\">\n",
       "      <th></th>\n",
       "      <th>gender__x0_Female</th>\n",
       "      <th>gender__x0_Male</th>\n",
       "      <th>height</th>\n",
       "      <th>weight</th>\n",
       "      <th>age</th>\n",
       "      <th>app_id</th>\n",
       "      <th>bmi</th>\n",
       "    </tr>\n",
       "  </thead>\n",
       "  <tbody>\n",
       "    <tr>\n",
       "      <th>0</th>\n",
       "      <td>1.0</td>\n",
       "      <td>0.0</td>\n",
       "      <td>1.557528</td>\n",
       "      <td>81.64656</td>\n",
       "      <td>19.0</td>\n",
       "      <td>99514.0</td>\n",
       "      <td>0</td>\n",
       "    </tr>\n",
       "    <tr>\n",
       "      <th>1</th>\n",
       "      <td>0.0</td>\n",
       "      <td>1.0</td>\n",
       "      <td>1.533144</td>\n",
       "      <td>81.64656</td>\n",
       "      <td>31.0</td>\n",
       "      <td>100335.0</td>\n",
       "      <td>0</td>\n",
       "    </tr>\n",
       "    <tr>\n",
       "      <th>2</th>\n",
       "      <td>1.0</td>\n",
       "      <td>0.0</td>\n",
       "      <td>1.554480</td>\n",
       "      <td>56.69900</td>\n",
       "      <td>45.0</td>\n",
       "      <td>57732.0</td>\n",
       "      <td>0</td>\n",
       "    </tr>\n",
       "    <tr>\n",
       "      <th>3</th>\n",
       "      <td>1.0</td>\n",
       "      <td>0.0</td>\n",
       "      <td>1.542288</td>\n",
       "      <td>54.43104</td>\n",
       "      <td>46.0</td>\n",
       "      <td>99422.0</td>\n",
       "      <td>0</td>\n",
       "    </tr>\n",
       "    <tr>\n",
       "      <th>4</th>\n",
       "      <td>1.0</td>\n",
       "      <td>0.0</td>\n",
       "      <td>1.840992</td>\n",
       "      <td>68.03880</td>\n",
       "      <td>24.0</td>\n",
       "      <td>13134.0</td>\n",
       "      <td>0</td>\n",
       "    </tr>\n",
       "  </tbody>\n",
       "</table>\n",
       "</div>"
      ],
      "text/plain": [
       "   gender__x0_Female  gender__x0_Male    height    weight   age    app_id  bmi\n",
       "0                1.0              0.0  1.557528  81.64656  19.0   99514.0    0\n",
       "1                0.0              1.0  1.533144  81.64656  31.0  100335.0    0\n",
       "2                1.0              0.0  1.554480  56.69900  45.0   57732.0    0\n",
       "3                1.0              0.0  1.542288  54.43104  46.0   99422.0    0\n",
       "4                1.0              0.0  1.840992  68.03880  24.0   13134.0    0"
      ]
     },
     "execution_count": 27,
     "metadata": {},
     "output_type": "execute_result"
    }
   ],
   "source": [
    "df_test.head()"
   ]
  },
  {
   "cell_type": "code",
   "execution_count": 28,
   "metadata": {},
   "outputs": [
    {
     "name": "stdout",
     "output_type": "stream",
     "text": [
      "    gender__x0_Female  gender__x0_Male    height      weight   age    app_id  \\\n",
      "0                 0.0              1.0  1.548384   81.646560  36.0  100336.0   \n",
      "1                 1.0              0.0  1.831848   77.110640  19.0   13545.0   \n",
      "2                 0.0              1.0  1.533144   81.646560  57.0   99947.0   \n",
      "3                 0.0              1.0  1.548384   74.842680  45.0   93580.0   \n",
      "4                 0.0              1.0  1.545336   81.646560  19.0   99498.0   \n",
      "5                 0.0              1.0  1.524000   65.770840  19.0   93587.0   \n",
      "6                 1.0              0.0  1.554480   77.110640  58.0   99517.0   \n",
      "7                 0.0              1.0  1.542288   68.038800  59.0  100342.0   \n",
      "8                 0.0              1.0  1.545336   77.110640  48.0   87432.0   \n",
      "9                 1.0              0.0  1.533144   81.646560  34.0  100334.0   \n",
      "10                0.0              1.0  1.831848   63.502880  40.0  100344.0   \n",
      "11                1.0              0.0  1.554480   54.431040  49.0   99536.0   \n",
      "12                0.0              1.0  1.542288   81.646560  28.0   99511.0   \n",
      "13                0.0              1.0  1.554480   83.914520  31.0   56372.0   \n",
      "14                0.0              1.0  1.545336   68.038800  35.0  100345.0   \n",
      "15                1.0              0.0  1.545336   95.254320  35.0   24545.0   \n",
      "16                0.0              1.0  1.524000   68.038800  57.0   54325.0   \n",
      "17                0.0              1.0  1.542288   81.646560  26.0   82348.0   \n",
      "18                0.0              1.0  1.542288   81.646560  37.0   13255.0   \n",
      "19                0.0              1.0  1.554480   81.646560  19.0  100331.0   \n",
      "20                0.0              1.0  1.831848   81.646560  46.0   99452.0   \n",
      "21                1.0              0.0  1.551432   49.895120  47.0   45432.0   \n",
      "22                1.0              0.0  1.533144   56.699000  40.0   92497.0   \n",
      "23                1.0              0.0  1.831848   90.718400  31.0   45764.0   \n",
      "24                0.0              1.0  1.551432  102.058200  35.0   23466.0   \n",
      "25                1.0              0.0  1.554480   81.646560  19.0   67434.0   \n",
      "26                0.0              1.0  1.831848   56.699000  32.0   34523.0   \n",
      "27                0.0              1.0  1.548384   81.646560  55.0   99946.0   \n",
      "28                1.0              0.0  1.548384   74.842680  47.0   93581.0   \n",
      "29                1.0              0.0  1.831848   77.110640  57.0   93590.0   \n",
      "30                0.0              1.0  1.524000   79.832192  49.0   93102.0   \n",
      "31                1.0              0.0  1.557528   56.699000  55.0   99530.0   \n",
      "32                0.0              1.0  1.831848   81.646560  59.0   99513.0   \n",
      "33                0.0              1.0  1.551432   95.707912  33.0   24435.0   \n",
      "34                0.0              1.0  1.545336   81.646560  47.0   12345.0   \n",
      "35                1.0              0.0  1.828800  114.305184  39.0   12323.0   \n",
      "36                0.0              1.0  1.831848   60.327736  26.0   99437.0   \n",
      "37                1.0              0.0  1.536192   65.770840  23.0  100333.0   \n",
      "38                1.0              0.0  1.551432   72.574720  28.0   99516.0   \n",
      "39                1.0              0.0  1.524000   77.110640  47.0  100341.0   \n",
      "40                0.0              1.0  1.557528   74.842680  55.0   93057.0   \n",
      "41                1.0              0.0  1.530096   61.234920  40.0   97563.0   \n",
      "42                0.0              1.0  1.530096   63.502880  36.0   99497.0   \n",
      "43                1.0              0.0  1.551432   77.110640  36.0   12424.0   \n",
      "44                0.0              1.0  1.831848   72.574720  25.0   64574.0   \n",
      "45                0.0              1.0  1.539240   61.234920  50.0  100340.0   \n",
      "46                1.0              0.0  1.828800   70.306760  40.0   63462.0   \n",
      "47                0.0              1.0  1.551432   81.646560  45.0   99875.0   \n",
      "48                0.0              1.0  1.828800   81.646560  36.0   54226.0   \n",
      "49                1.0              0.0  1.828800   54.431040  36.0   13352.0   \n",
      "50                0.0              1.0  1.545336   80.739376  48.0   93576.0   \n",
      "51                0.0              1.0  1.831848   54.884632  36.0   93077.0   \n",
      "52                0.0              1.0  1.551432   79.378600  50.0  100332.0   \n",
      "53                1.0              0.0  1.545336   65.317248  28.0   12123.0   \n",
      "54                0.0              1.0  1.554480   80.739376  57.0   93068.0   \n",
      "55                0.0              1.0  1.557528   90.718400  24.0   13123.0   \n",
      "56                0.0              1.0  1.545336   68.038800  32.0   75422.0   \n",
      "57                0.0              1.0  1.533144   79.378600  38.0   87324.0   \n",
      "58                1.0              0.0  1.542288   81.646560  55.0   92891.0   \n",
      "59                0.0              1.0  1.840992   65.770840  27.0   23781.0   \n",
      "\n",
      "          bmi  \n",
      "0   52.730175  \n",
      "1   42.094453  \n",
      "2   53.254332  \n",
      "3   48.335994  \n",
      "4   52.834180  \n",
      "5   43.156719  \n",
      "6   49.605424  \n",
      "7   44.115496  \n",
      "8   49.898948  \n",
      "9   53.254332  \n",
      "10  34.666020  \n",
      "11  35.015594  \n",
      "12  52.938595  \n",
      "13  53.982374  \n",
      "14  44.028483  \n",
      "15  61.639876  \n",
      "16  44.644882  \n",
      "17  52.938595  \n",
      "18  52.938595  \n",
      "19  52.523390  \n",
      "20  44.570598  \n",
      "21  32.160688  \n",
      "22  36.982175  \n",
      "23  49.522886  \n",
      "24  65.783225  \n",
      "25  52.523390  \n",
      "26  30.951804  \n",
      "27  52.730175  \n",
      "28  48.335994  \n",
      "29  42.094453  \n",
      "30  52.383328  \n",
      "31  36.403198  \n",
      "32  44.570598  \n",
      "33  61.690046  \n",
      "34  52.834180  \n",
      "35  62.502835  \n",
      "36  32.932719  \n",
      "37  42.814206  \n",
      "38  46.779182  \n",
      "39  50.597533  \n",
      "40  48.052221  \n",
      "41  40.020312  \n",
      "42  41.502546  \n",
      "43  49.702881  \n",
      "44  39.618309  \n",
      "45  39.782568  \n",
      "46  38.444204  \n",
      "47  52.626580  \n",
      "48  44.644882  \n",
      "49  29.763255  \n",
      "50  52.247133  \n",
      "51  29.961346  \n",
      "52  51.164730  \n",
      "53  42.267344  \n",
      "54  51.939797  \n",
      "55  58.245117  \n",
      "56  44.028483  \n",
      "57  51.775045  \n",
      "58  52.938595  \n",
      "59  35.725761  \n",
      "here\n",
      "    gender__x0_Female  gender__x0_Male    height     weight   age    app_id  \\\n",
      "0                 1.0              0.0  1.557528  81.646560  19.0   99514.0   \n",
      "1                 0.0              1.0  1.533144  81.646560  31.0  100335.0   \n",
      "2                 1.0              0.0  1.554480  56.699000  45.0   57732.0   \n",
      "3                 1.0              0.0  1.542288  54.431040  46.0   99422.0   \n",
      "4                 1.0              0.0  1.840992  68.038800  24.0   13134.0   \n",
      "5                 1.0              0.0  1.548384  74.842680  28.0   53242.0   \n",
      "6                 1.0              0.0  1.831848  81.646560  46.0   75324.0   \n",
      "7                 1.0              0.0  1.548384  72.574720  49.0   12343.0   \n",
      "8                 0.0              1.0  1.545336  54.431040  19.0   99917.0   \n",
      "9                 1.0              0.0  1.524000  80.739376  20.0   99504.0   \n",
      "10                0.0              1.0  1.554480  92.986360  35.0   34565.0   \n",
      "11                0.0              1.0  1.557528  68.038800  19.0   99918.0   \n",
      "12                0.0              1.0  1.545336  81.646560  35.0   75323.0   \n",
      "13                0.0              1.0  1.551432  90.718400  48.0   12324.0   \n",
      "14                1.0              0.0  1.554480  81.646560  19.0   93055.0   \n",
      "15                1.0              0.0  1.536192  79.378600  19.0   99520.0   \n",
      "\n",
      "          bmi  \n",
      "0   52.420605  \n",
      "1   53.254332  \n",
      "2   36.474577  \n",
      "3   35.292397  \n",
      "4   36.957684  \n",
      "5   48.335994  \n",
      "6   44.570598  \n",
      "7   46.871267  \n",
      "8   35.222787  \n",
      "9   52.978593  \n",
      "10  59.818306  \n",
      "11  43.683837  \n",
      "12  52.834180  \n",
      "13  58.473978  \n",
      "14  52.523390  \n",
      "15  51.672317  \n"
     ]
    },
    {
     "data": {
      "text/html": [
       "<div>\n",
       "<style scoped>\n",
       "    .dataframe tbody tr th:only-of-type {\n",
       "        vertical-align: middle;\n",
       "    }\n",
       "\n",
       "    .dataframe tbody tr th {\n",
       "        vertical-align: top;\n",
       "    }\n",
       "\n",
       "    .dataframe thead th {\n",
       "        text-align: right;\n",
       "    }\n",
       "</style>\n",
       "<table border=\"1\" class=\"dataframe\">\n",
       "  <thead>\n",
       "    <tr style=\"text-align: right;\">\n",
       "      <th></th>\n",
       "      <th>gender__x0_Female</th>\n",
       "      <th>gender__x0_Male</th>\n",
       "      <th>height</th>\n",
       "      <th>weight</th>\n",
       "      <th>age</th>\n",
       "      <th>app_id</th>\n",
       "      <th>bmi</th>\n",
       "    </tr>\n",
       "  </thead>\n",
       "  <tbody>\n",
       "    <tr>\n",
       "      <th>0</th>\n",
       "      <td>1.0</td>\n",
       "      <td>0.0</td>\n",
       "      <td>1.557528</td>\n",
       "      <td>81.64656</td>\n",
       "      <td>19.0</td>\n",
       "      <td>99514.0</td>\n",
       "      <td>52.420605</td>\n",
       "    </tr>\n",
       "    <tr>\n",
       "      <th>1</th>\n",
       "      <td>0.0</td>\n",
       "      <td>1.0</td>\n",
       "      <td>1.533144</td>\n",
       "      <td>81.64656</td>\n",
       "      <td>31.0</td>\n",
       "      <td>100335.0</td>\n",
       "      <td>53.254332</td>\n",
       "    </tr>\n",
       "    <tr>\n",
       "      <th>2</th>\n",
       "      <td>1.0</td>\n",
       "      <td>0.0</td>\n",
       "      <td>1.554480</td>\n",
       "      <td>56.69900</td>\n",
       "      <td>45.0</td>\n",
       "      <td>57732.0</td>\n",
       "      <td>36.474577</td>\n",
       "    </tr>\n",
       "    <tr>\n",
       "      <th>3</th>\n",
       "      <td>1.0</td>\n",
       "      <td>0.0</td>\n",
       "      <td>1.542288</td>\n",
       "      <td>54.43104</td>\n",
       "      <td>46.0</td>\n",
       "      <td>99422.0</td>\n",
       "      <td>35.292397</td>\n",
       "    </tr>\n",
       "    <tr>\n",
       "      <th>4</th>\n",
       "      <td>1.0</td>\n",
       "      <td>0.0</td>\n",
       "      <td>1.840992</td>\n",
       "      <td>68.03880</td>\n",
       "      <td>24.0</td>\n",
       "      <td>13134.0</td>\n",
       "      <td>36.957684</td>\n",
       "    </tr>\n",
       "  </tbody>\n",
       "</table>\n",
       "</div>"
      ],
      "text/plain": [
       "   gender__x0_Female  gender__x0_Male    height    weight   age    app_id  \\\n",
       "0                1.0              0.0  1.557528  81.64656  19.0   99514.0   \n",
       "1                0.0              1.0  1.533144  81.64656  31.0  100335.0   \n",
       "2                1.0              0.0  1.554480  56.69900  45.0   57732.0   \n",
       "3                1.0              0.0  1.542288  54.43104  46.0   99422.0   \n",
       "4                1.0              0.0  1.840992  68.03880  24.0   13134.0   \n",
       "\n",
       "         bmi  \n",
       "0  52.420605  \n",
       "1  53.254332  \n",
       "2  36.474577  \n",
       "3  35.292397  \n",
       "4  36.957684  "
      ]
     },
     "execution_count": 28,
     "metadata": {},
     "output_type": "execute_result"
    }
   ],
   "source": [
    "\n",
    "target_pipeline = Pipeline(\n",
    "                    steps=[(\"calculates bmi\", BmiTransformer(numeric_features))]\n",
    "                )\n",
    "df_train = target_pipeline.fit_transform(df_train)\n",
    "print(\"here\")\n",
    "df_test = target_pipeline.transform(df_test)\n",
    "df_test.head()"
   ]
  },
  {
   "cell_type": "code",
   "execution_count": 29,
   "metadata": {},
   "outputs": [
    {
     "data": {
      "text/html": [
       "<div>\n",
       "<style scoped>\n",
       "    .dataframe tbody tr th:only-of-type {\n",
       "        vertical-align: middle;\n",
       "    }\n",
       "\n",
       "    .dataframe tbody tr th {\n",
       "        vertical-align: top;\n",
       "    }\n",
       "\n",
       "    .dataframe thead th {\n",
       "        text-align: right;\n",
       "    }\n",
       "</style>\n",
       "<table border=\"1\" class=\"dataframe\">\n",
       "  <thead>\n",
       "    <tr style=\"text-align: right;\">\n",
       "      <th></th>\n",
       "      <th>gender__x0_Female</th>\n",
       "      <th>gender__x0_Male</th>\n",
       "      <th>height</th>\n",
       "      <th>weight</th>\n",
       "      <th>age</th>\n",
       "      <th>app_id</th>\n",
       "      <th>bmi</th>\n",
       "    </tr>\n",
       "  </thead>\n",
       "  <tbody>\n",
       "    <tr>\n",
       "      <th>0</th>\n",
       "      <td>0.0</td>\n",
       "      <td>1.0</td>\n",
       "      <td>1.548384</td>\n",
       "      <td>81.64656</td>\n",
       "      <td>36.0</td>\n",
       "      <td>100336.0</td>\n",
       "      <td>52.730175</td>\n",
       "    </tr>\n",
       "    <tr>\n",
       "      <th>1</th>\n",
       "      <td>1.0</td>\n",
       "      <td>0.0</td>\n",
       "      <td>1.831848</td>\n",
       "      <td>77.11064</td>\n",
       "      <td>19.0</td>\n",
       "      <td>13545.0</td>\n",
       "      <td>42.094453</td>\n",
       "    </tr>\n",
       "    <tr>\n",
       "      <th>2</th>\n",
       "      <td>0.0</td>\n",
       "      <td>1.0</td>\n",
       "      <td>1.533144</td>\n",
       "      <td>81.64656</td>\n",
       "      <td>57.0</td>\n",
       "      <td>99947.0</td>\n",
       "      <td>53.254332</td>\n",
       "    </tr>\n",
       "    <tr>\n",
       "      <th>3</th>\n",
       "      <td>0.0</td>\n",
       "      <td>1.0</td>\n",
       "      <td>1.548384</td>\n",
       "      <td>74.84268</td>\n",
       "      <td>45.0</td>\n",
       "      <td>93580.0</td>\n",
       "      <td>48.335994</td>\n",
       "    </tr>\n",
       "    <tr>\n",
       "      <th>4</th>\n",
       "      <td>0.0</td>\n",
       "      <td>1.0</td>\n",
       "      <td>1.545336</td>\n",
       "      <td>81.64656</td>\n",
       "      <td>19.0</td>\n",
       "      <td>99498.0</td>\n",
       "      <td>52.834180</td>\n",
       "    </tr>\n",
       "  </tbody>\n",
       "</table>\n",
       "</div>"
      ],
      "text/plain": [
       "   gender__x0_Female  gender__x0_Male    height    weight   age    app_id  \\\n",
       "0                0.0              1.0  1.548384  81.64656  36.0  100336.0   \n",
       "1                1.0              0.0  1.831848  77.11064  19.0   13545.0   \n",
       "2                0.0              1.0  1.533144  81.64656  57.0   99947.0   \n",
       "3                0.0              1.0  1.548384  74.84268  45.0   93580.0   \n",
       "4                0.0              1.0  1.545336  81.64656  19.0   99498.0   \n",
       "\n",
       "         bmi  \n",
       "0  52.730175  \n",
       "1  42.094453  \n",
       "2  53.254332  \n",
       "3  48.335994  \n",
       "4  52.834180  "
      ]
     },
     "execution_count": 29,
     "metadata": {},
     "output_type": "execute_result"
    }
   ],
   "source": [
    "df_train.head()"
   ]
  },
  {
   "cell_type": "code",
   "execution_count": 30,
   "metadata": {},
   "outputs": [
    {
     "data": {
      "text/html": [
       "<div>\n",
       "<style scoped>\n",
       "    .dataframe tbody tr th:only-of-type {\n",
       "        vertical-align: middle;\n",
       "    }\n",
       "\n",
       "    .dataframe tbody tr th {\n",
       "        vertical-align: top;\n",
       "    }\n",
       "\n",
       "    .dataframe thead th {\n",
       "        text-align: right;\n",
       "    }\n",
       "</style>\n",
       "<table border=\"1\" class=\"dataframe\">\n",
       "  <thead>\n",
       "    <tr style=\"text-align: right;\">\n",
       "      <th></th>\n",
       "      <th>app_id</th>\n",
       "      <th>age</th>\n",
       "      <th>gender</th>\n",
       "      <th>height</th>\n",
       "      <th>weight</th>\n",
       "      <th>bmi</th>\n",
       "    </tr>\n",
       "  </thead>\n",
       "  <tbody>\n",
       "    <tr>\n",
       "      <th>0</th>\n",
       "      <td>56372</td>\n",
       "      <td>31</td>\n",
       "      <td>Male</td>\n",
       "      <td>510</td>\n",
       "      <td>185</td>\n",
       "      <td>0</td>\n",
       "    </tr>\n",
       "    <tr>\n",
       "      <th>1</th>\n",
       "      <td>34565</td>\n",
       "      <td>35</td>\n",
       "      <td>Male</td>\n",
       "      <td>510</td>\n",
       "      <td>205</td>\n",
       "      <td>0</td>\n",
       "    </tr>\n",
       "    <tr>\n",
       "      <th>2</th>\n",
       "      <td>57732</td>\n",
       "      <td>45</td>\n",
       "      <td>Female</td>\n",
       "      <td>510</td>\n",
       "      <td>125</td>\n",
       "      <td>0</td>\n",
       "    </tr>\n",
       "    <tr>\n",
       "      <th>3</th>\n",
       "      <td>87324</td>\n",
       "      <td>38</td>\n",
       "      <td>Male</td>\n",
       "      <td>503</td>\n",
       "      <td>175</td>\n",
       "      <td>0</td>\n",
       "    </tr>\n",
       "    <tr>\n",
       "      <th>4</th>\n",
       "      <td>12323</td>\n",
       "      <td>39</td>\n",
       "      <td>Female</td>\n",
       "      <td>600</td>\n",
       "      <td>252</td>\n",
       "      <td>0</td>\n",
       "    </tr>\n",
       "  </tbody>\n",
       "</table>\n",
       "</div>"
      ],
      "text/plain": [
       "   app_id  age  gender  height  weight  bmi\n",
       "0   56372   31    Male     510     185    0\n",
       "1   34565   35    Male     510     205    0\n",
       "2   57732   45  Female     510     125    0\n",
       "3   87324   38    Male     503     175    0\n",
       "4   12323   39  Female     600     252    0"
      ]
     },
     "execution_count": 30,
     "metadata": {},
     "output_type": "execute_result"
    }
   ],
   "source": [
    "df_base.head()"
   ]
  },
  {
   "cell_type": "code",
   "execution_count": 31,
   "metadata": {},
   "outputs": [],
   "source": [
    "df_train.to_csv(\"train.csv\")\n",
    "df_test.to_csv(\"test.csv\")"
   ]
  },
  {
   "cell_type": "code",
   "execution_count": 32,
   "metadata": {},
   "outputs": [],
   "source": [
    "X_train = df_train.drop(columns=[\"bmi\", \"app_id\"])\n",
    "X_test = df_test.drop(columns=[\"bmi\", \"app_id\"])\n",
    "y_train = df_train[\"bmi\"]\n",
    "y_test = df_test[\"bmi\"]"
   ]
  },
  {
   "cell_type": "markdown",
   "metadata": {},
   "source": [
    "### Model Selection,Prediction & Metrics"
   ]
  },
  {
   "cell_type": "code",
   "execution_count": 33,
   "metadata": {},
   "outputs": [
    {
     "name": "stdout",
     "output_type": "stream",
     "text": [
      "Fitting 5 folds for each of 6 candidates, totalling 30 fits\n"
     ]
    },
    {
     "data": {
      "text/plain": [
       "Pipeline(steps=[('standard scaler', StandardScaler()),\n",
       "                ('GS Lasso',\n",
       "                 GridSearchCV(estimator=Lasso(), n_jobs=-1,\n",
       "                              param_grid={'alpha': [0.001, 0.01, 0.1, 1, 10,\n",
       "                                                    100]},\n",
       "                              scoring='r2', verbose=2))])"
      ]
     },
     "execution_count": 33,
     "metadata": {},
     "output_type": "execute_result"
    }
   ],
   "source": [
    "alpha = [0.001, 0.01, 0.1, 1, 10, 100]\n",
    "param_grid = dict(alpha=alpha)\n",
    "\n",
    "pipe = Pipeline([\n",
    "    ('standard scaler', StandardScaler()),\n",
    "   # ('GS LR', GridSearchCV(LinearRegression(), param_grid={})),\n",
    "    ('GS Lasso', GridSearchCV(estimator=Lasso(), param_grid=param_grid, scoring='r2', verbose=2, n_jobs=-1))\n",
    "])\n",
    "pipe.fit(X_train, y_train)"
   ]
  },
  {
   "cell_type": "code",
   "execution_count": 34,
   "metadata": {},
   "outputs": [
    {
     "name": "stdout",
     "output_type": "stream",
     "text": [
      "Predictions on training data: [52.66053204 42.22063526 52.89278207 48.48802844 52.87588354 43.86673127\n",
      " 49.18187804 44.43551284 49.91097229 52.6663354  34.26141578 35.58424774\n",
      " 52.8840917  53.90747742 44.54681045 60.54032212 44.93091669 52.9000258\n",
      " 52.81238823 52.63614867 45.14908048 32.94622671 37.58226595 50.3266309\n",
      " 64.89098785 52.22645981 30.22435206 52.50915806 48.06240548 41.9178873\n",
      " 52.10270666 36.82346718 45.04550881 61.0795085  52.65280609 64.55891323\n",
      " 32.45924777 43.10552771 46.76693446 50.06863185 48.16862305 40.39604433\n",
      " 42.20453477 49.4370648  39.84865506 40.4863278  38.03243867 52.50891695\n",
      " 45.30866262 28.49577324 52.09806569 29.09893715 51.10214831 42.55257091\n",
      " 51.78662735 57.98413529 44.57071161 51.67722268 52.25929245 35.49218595]\n",
      "Predictions on test data: [52.14654819 53.09992542 36.98304932 35.92779539 36.47333163 48.21377946\n",
      " 44.73939162 46.679538   36.47268302 52.47083565 59.34334272 44.35463678\n",
      " 52.74841071 57.9527493  52.22645981 51.33899618]\n"
     ]
    }
   ],
   "source": [
    "# Predict training data\n",
    "y_train_pred = pipe.predict(X_train)\n",
    "print(f\"Predictions on training data: {y_train_pred}\")\n",
    "\n",
    "# Predict test data\n",
    "y_test_pred = pipe.predict(X_test)\n",
    "print(f\"Predictions on test data: {y_test_pred}\")"
   ]
  },
  {
   "cell_type": "code",
   "execution_count": 35,
   "metadata": {},
   "outputs": [
    {
     "data": {
      "text/plain": [
       "0     52.420605\n",
       "1     53.254332\n",
       "2     36.474577\n",
       "3     35.292397\n",
       "4     36.957684\n",
       "5     48.335994\n",
       "6     44.570598\n",
       "7     46.871267\n",
       "8     35.222787\n",
       "9     52.978593\n",
       "10    59.818306\n",
       "11    43.683837\n",
       "12    52.834180\n",
       "13    58.473978\n",
       "14    52.523390\n",
       "15    51.672317\n",
       "Name: bmi, dtype: float64"
      ]
     },
     "execution_count": 35,
     "metadata": {},
     "output_type": "execute_result"
    }
   ],
   "source": [
    "y_test"
   ]
  },
  {
   "cell_type": "markdown",
   "metadata": {},
   "source": [
    "#### MSE on Test data"
   ]
  },
  {
   "cell_type": "code",
   "execution_count": 36,
   "metadata": {},
   "outputs": [
    {
     "name": "stdout",
     "output_type": "stream",
     "text": [
      "Mean squared error: 0.25\n",
      "Coefficient of determination: 1.00\n"
     ]
    }
   ],
   "source": [
    "# The mean squared error\n",
    "print(\"Mean squared error: %.2f\" % mean_squared_error(y_test, y_test_pred))\n",
    "# The coefficient of determination: 1 is perfect prediction\n",
    "print(\"Coefficient of determination: %.2f\" % r2_score(y_test, y_test_pred))"
   ]
  },
  {
   "cell_type": "markdown",
   "metadata": {},
   "source": [
    "#### MSE on Train data"
   ]
  },
  {
   "cell_type": "code",
   "execution_count": 37,
   "metadata": {},
   "outputs": [
    {
     "name": "stdout",
     "output_type": "stream",
     "text": [
      "Mean squared error: 0.30\n",
      "Coefficient of determination: 1.00\n"
     ]
    }
   ],
   "source": [
    "# The mean squared error\n",
    "print(\"Mean squared error: %.2f\" % mean_squared_error(y_train, y_train_pred))\n",
    "# The coefficient of determination: 1 is perfect prediction\n",
    "print(\"Coefficient of determination: %.2f\" % r2_score(y_train, y_train_pred))"
   ]
  },
  {
   "cell_type": "markdown",
   "metadata": {},
   "source": [
    "### Calculating cost"
   ]
  },
  {
   "cell_type": "markdown",
   "metadata": {},
   "source": [
    "#### Storing predicted bmi, actualpredicted bmi,  app_id to the csv files named predicted_bmi_train.csv & predicted_bmi_test.csv for the analysis & calculating cost"
   ]
  },
  {
   "cell_type": "code",
   "execution_count": 38,
   "metadata": {},
   "outputs": [],
   "source": [
    "\n",
    "pd_pred_train = pd.DataFrame(data=X_train, columns=X_train.columns) \n",
    "pd_pred_test = pd.DataFrame(data=X_test, columns=X_train.columns) \n",
    "\n",
    "# bmi calcuated based on existing train & test data \n",
    "pd_pred_train[\"bmi\"] = y_train \n",
    "pd_pred_test[\"bmi\"] = y_test\n",
    "\n",
    "#bmi predicted by the model on train & test data\n",
    "pd_pred_train[\"pred_bmi\"] = y_train_pred\n",
    "pd_pred_test[\"pred_bmi\"] = y_test_pred\n",
    "\n",
    "#remapping the app_id to track the applicant\n",
    "pd_pred_train[\"app_id\"] = df_train[\"app_id\"]\n",
    "pd_pred_test[\"app_id\"] = df_test[\"app_id\"]\n",
    "\n",
    "pd_pred_train.to_csv(\"predicted_bmi_train.csv\")\n",
    "pd_pred_test.to_csv(\"predicted_bmi_test.csv\")\n",
    "\n"
   ]
  },
  {
   "cell_type": "code",
   "execution_count": 39,
   "metadata": {},
   "outputs": [
    {
     "data": {
      "text/html": [
       "<div>\n",
       "<style scoped>\n",
       "    .dataframe tbody tr th:only-of-type {\n",
       "        vertical-align: middle;\n",
       "    }\n",
       "\n",
       "    .dataframe tbody tr th {\n",
       "        vertical-align: top;\n",
       "    }\n",
       "\n",
       "    .dataframe thead th {\n",
       "        text-align: right;\n",
       "    }\n",
       "</style>\n",
       "<table border=\"1\" class=\"dataframe\">\n",
       "  <thead>\n",
       "    <tr style=\"text-align: right;\">\n",
       "      <th></th>\n",
       "      <th>gender__x0_Female</th>\n",
       "      <th>gender__x0_Male</th>\n",
       "      <th>height</th>\n",
       "      <th>weight</th>\n",
       "      <th>age</th>\n",
       "      <th>bmi</th>\n",
       "      <th>pred_bmi</th>\n",
       "      <th>app_id</th>\n",
       "    </tr>\n",
       "  </thead>\n",
       "  <tbody>\n",
       "    <tr>\n",
       "      <th>0</th>\n",
       "      <td>0.0</td>\n",
       "      <td>1.0</td>\n",
       "      <td>1.548384</td>\n",
       "      <td>81.64656</td>\n",
       "      <td>36.0</td>\n",
       "      <td>52.730175</td>\n",
       "      <td>52.660532</td>\n",
       "      <td>100336.0</td>\n",
       "    </tr>\n",
       "    <tr>\n",
       "      <th>1</th>\n",
       "      <td>1.0</td>\n",
       "      <td>0.0</td>\n",
       "      <td>1.831848</td>\n",
       "      <td>77.11064</td>\n",
       "      <td>19.0</td>\n",
       "      <td>42.094453</td>\n",
       "      <td>42.220635</td>\n",
       "      <td>13545.0</td>\n",
       "    </tr>\n",
       "    <tr>\n",
       "      <th>2</th>\n",
       "      <td>0.0</td>\n",
       "      <td>1.0</td>\n",
       "      <td>1.533144</td>\n",
       "      <td>81.64656</td>\n",
       "      <td>57.0</td>\n",
       "      <td>53.254332</td>\n",
       "      <td>52.892782</td>\n",
       "      <td>99947.0</td>\n",
       "    </tr>\n",
       "    <tr>\n",
       "      <th>3</th>\n",
       "      <td>0.0</td>\n",
       "      <td>1.0</td>\n",
       "      <td>1.548384</td>\n",
       "      <td>74.84268</td>\n",
       "      <td>45.0</td>\n",
       "      <td>48.335994</td>\n",
       "      <td>48.488028</td>\n",
       "      <td>93580.0</td>\n",
       "    </tr>\n",
       "    <tr>\n",
       "      <th>4</th>\n",
       "      <td>0.0</td>\n",
       "      <td>1.0</td>\n",
       "      <td>1.545336</td>\n",
       "      <td>81.64656</td>\n",
       "      <td>19.0</td>\n",
       "      <td>52.834180</td>\n",
       "      <td>52.875884</td>\n",
       "      <td>99498.0</td>\n",
       "    </tr>\n",
       "  </tbody>\n",
       "</table>\n",
       "</div>"
      ],
      "text/plain": [
       "   gender__x0_Female  gender__x0_Male    height    weight   age        bmi  \\\n",
       "0                0.0              1.0  1.548384  81.64656  36.0  52.730175   \n",
       "1                1.0              0.0  1.831848  77.11064  19.0  42.094453   \n",
       "2                0.0              1.0  1.533144  81.64656  57.0  53.254332   \n",
       "3                0.0              1.0  1.548384  74.84268  45.0  48.335994   \n",
       "4                0.0              1.0  1.545336  81.64656  19.0  52.834180   \n",
       "\n",
       "    pred_bmi    app_id  \n",
       "0  52.660532  100336.0  \n",
       "1  42.220635   13545.0  \n",
       "2  52.892782   99947.0  \n",
       "3  48.488028   93580.0  \n",
       "4  52.875884   99498.0  "
      ]
     },
     "execution_count": 39,
     "metadata": {},
     "output_type": "execute_result"
    }
   ],
   "source": [
    "pd_pred_train.head()"
   ]
  },
  {
   "cell_type": "code",
   "execution_count": 40,
   "metadata": {},
   "outputs": [],
   "source": [
    "# re-mapping one-hot encoded sex feature to the keywords(m,f) \n",
    "def sex(flag):\n",
    "    if flag == 1.0:\n",
    "        return 'm'\n",
    "    else:\n",
    "        return 'f'\n",
    "pd_pred_train[\"sex\"] = pd_pred_train[\"gender__x0_Male\"].apply(lambda x: sex(x))\n",
    "pd_pred_test[\"sex\"] = pd_pred_test[\"gender__x0_Male\"].apply(lambda x: sex(x))"
   ]
  },
  {
   "cell_type": "code",
   "execution_count": 41,
   "metadata": {},
   "outputs": [
    {
     "data": {
      "text/html": [
       "<div>\n",
       "<style scoped>\n",
       "    .dataframe tbody tr th:only-of-type {\n",
       "        vertical-align: middle;\n",
       "    }\n",
       "\n",
       "    .dataframe tbody tr th {\n",
       "        vertical-align: top;\n",
       "    }\n",
       "\n",
       "    .dataframe thead th {\n",
       "        text-align: right;\n",
       "    }\n",
       "</style>\n",
       "<table border=\"1\" class=\"dataframe\">\n",
       "  <thead>\n",
       "    <tr style=\"text-align: right;\">\n",
       "      <th></th>\n",
       "      <th>gender__x0_Female</th>\n",
       "      <th>gender__x0_Male</th>\n",
       "      <th>height</th>\n",
       "      <th>weight</th>\n",
       "      <th>age</th>\n",
       "      <th>bmi</th>\n",
       "      <th>pred_bmi</th>\n",
       "      <th>app_id</th>\n",
       "      <th>sex</th>\n",
       "    </tr>\n",
       "  </thead>\n",
       "  <tbody>\n",
       "    <tr>\n",
       "      <th>0</th>\n",
       "      <td>0.0</td>\n",
       "      <td>1.0</td>\n",
       "      <td>1.548384</td>\n",
       "      <td>81.64656</td>\n",
       "      <td>36.0</td>\n",
       "      <td>52.730175</td>\n",
       "      <td>52.660532</td>\n",
       "      <td>100336.0</td>\n",
       "      <td>m</td>\n",
       "    </tr>\n",
       "    <tr>\n",
       "      <th>1</th>\n",
       "      <td>1.0</td>\n",
       "      <td>0.0</td>\n",
       "      <td>1.831848</td>\n",
       "      <td>77.11064</td>\n",
       "      <td>19.0</td>\n",
       "      <td>42.094453</td>\n",
       "      <td>42.220635</td>\n",
       "      <td>13545.0</td>\n",
       "      <td>f</td>\n",
       "    </tr>\n",
       "    <tr>\n",
       "      <th>2</th>\n",
       "      <td>0.0</td>\n",
       "      <td>1.0</td>\n",
       "      <td>1.533144</td>\n",
       "      <td>81.64656</td>\n",
       "      <td>57.0</td>\n",
       "      <td>53.254332</td>\n",
       "      <td>52.892782</td>\n",
       "      <td>99947.0</td>\n",
       "      <td>m</td>\n",
       "    </tr>\n",
       "    <tr>\n",
       "      <th>3</th>\n",
       "      <td>0.0</td>\n",
       "      <td>1.0</td>\n",
       "      <td>1.548384</td>\n",
       "      <td>74.84268</td>\n",
       "      <td>45.0</td>\n",
       "      <td>48.335994</td>\n",
       "      <td>48.488028</td>\n",
       "      <td>93580.0</td>\n",
       "      <td>m</td>\n",
       "    </tr>\n",
       "    <tr>\n",
       "      <th>4</th>\n",
       "      <td>0.0</td>\n",
       "      <td>1.0</td>\n",
       "      <td>1.545336</td>\n",
       "      <td>81.64656</td>\n",
       "      <td>19.0</td>\n",
       "      <td>52.834180</td>\n",
       "      <td>52.875884</td>\n",
       "      <td>99498.0</td>\n",
       "      <td>m</td>\n",
       "    </tr>\n",
       "  </tbody>\n",
       "</table>\n",
       "</div>"
      ],
      "text/plain": [
       "   gender__x0_Female  gender__x0_Male    height    weight   age        bmi  \\\n",
       "0                0.0              1.0  1.548384  81.64656  36.0  52.730175   \n",
       "1                1.0              0.0  1.831848  77.11064  19.0  42.094453   \n",
       "2                0.0              1.0  1.533144  81.64656  57.0  53.254332   \n",
       "3                0.0              1.0  1.548384  74.84268  45.0  48.335994   \n",
       "4                0.0              1.0  1.545336  81.64656  19.0  52.834180   \n",
       "\n",
       "    pred_bmi    app_id sex  \n",
       "0  52.660532  100336.0   m  \n",
       "1  42.220635   13545.0   f  \n",
       "2  52.892782   99947.0   m  \n",
       "3  48.488028   93580.0   m  \n",
       "4  52.875884   99498.0   m  "
      ]
     },
     "execution_count": 41,
     "metadata": {},
     "output_type": "execute_result"
    }
   ],
   "source": [
    "pd_pred_train.head()"
   ]
  },
  {
   "cell_type": "code",
   "execution_count": 42,
   "metadata": {},
   "outputs": [],
   "source": [
    "   \n",
    "def cal_cost(age, bmi, sex):\n",
    "    '''\n",
    "        age - age of the member\n",
    "        bmi - body mass index\n",
    "        sex - m or f or any\n",
    "    \n",
    "        If Age is between 18 and 39 and BMI less than 17.49 or greater than 38.5, \n",
    "        provide quote as 750 USD \n",
    "\n",
    "        If Age is between 40 and 59 and BMI less than 18.49 or greater than 38.5, \n",
    "        provide quote as 1000 USD\n",
    "\n",
    "         If Age is greater than 60 and BMI less than 18.49 or BMI greater than 45.5, \n",
    "        provide quote as 2000 USD\n",
    "        \n",
    "         Anything other than the above condition, give a quote of 500 USD and give \n",
    "        reason as “BMI is in right range”.\n",
    "        \n",
    "        If Gender is Female, give a 10% discount on above quoted price\n",
    "        \n",
    "        returns the cost \n",
    "    '''\n",
    "    cost = 0\n",
    "    discount_f = 10\n",
    "    \n",
    "    if age in range(18, 39) and (bmi < 17.49 or bmi > 38.5):\n",
    "        cost = 750\n",
    "    elif age in range(40, 59) and (bmi < 18.49 or bmi > 38.5):\n",
    "        cost = 1000\n",
    "    elif 60 <= age and (bmi < 18.49 or bmi > 45.5):\n",
    "        cost = 2000\n",
    "    else:\n",
    "        cost = 500\n",
    "        \n",
    "    if sex == \"f\":\n",
    "        discount = (cost * discount_f / 100)\n",
    "        cost = cost - discount\n",
    "        \n",
    "    return cost\n",
    "        "
   ]
  },
  {
   "cell_type": "markdown",
   "metadata": {},
   "source": [
    "#### Calcuating the cost based on the calcuated & the predicted bmi. This will help to asses the price difference between the actual cost & the predicted cost\n",
    "\n",
    "##### cost column - actual cost\n",
    "##### pred_cost - predicted cost\n",
    "##### bmi - actual bmi\n",
    "##### pred_bmi - predicted bmi"
   ]
  },
  {
   "cell_type": "code",
   "execution_count": 43,
   "metadata": {},
   "outputs": [],
   "source": [
    "pd_pred_train[\"cost\"] = pd_pred_train.apply(lambda x: cal_cost(x.age, x.bmi, x.sex), axis=1)\n",
    "pd_pred_train[\"pred_cost\"] =  pd_pred_train.apply(lambda x: cal_cost(x.age, x.pred_bmi, x.sex), axis=1)\n",
    "\n",
    "pd_pred_test[\"cost\"] = pd_pred_test.apply(lambda x: cal_cost(x.age, x.bmi, x.sex), axis=1)\n",
    "pd_pred_test[\"pred_cost\"] =  pd_pred_test.apply(lambda x: cal_cost(x.age, x.pred_bmi, x.sex), axis=1)"
   ]
  },
  {
   "cell_type": "code",
   "execution_count": 44,
   "metadata": {},
   "outputs": [
    {
     "data": {
      "text/html": [
       "<div>\n",
       "<style scoped>\n",
       "    .dataframe tbody tr th:only-of-type {\n",
       "        vertical-align: middle;\n",
       "    }\n",
       "\n",
       "    .dataframe tbody tr th {\n",
       "        vertical-align: top;\n",
       "    }\n",
       "\n",
       "    .dataframe thead th {\n",
       "        text-align: right;\n",
       "    }\n",
       "</style>\n",
       "<table border=\"1\" class=\"dataframe\">\n",
       "  <thead>\n",
       "    <tr style=\"text-align: right;\">\n",
       "      <th></th>\n",
       "      <th>gender__x0_Female</th>\n",
       "      <th>gender__x0_Male</th>\n",
       "      <th>height</th>\n",
       "      <th>weight</th>\n",
       "      <th>age</th>\n",
       "      <th>bmi</th>\n",
       "      <th>pred_bmi</th>\n",
       "      <th>app_id</th>\n",
       "      <th>sex</th>\n",
       "      <th>cost</th>\n",
       "      <th>pred_cost</th>\n",
       "    </tr>\n",
       "  </thead>\n",
       "  <tbody>\n",
       "    <tr>\n",
       "      <th>0</th>\n",
       "      <td>0.0</td>\n",
       "      <td>1.0</td>\n",
       "      <td>1.548384</td>\n",
       "      <td>81.64656</td>\n",
       "      <td>36.0</td>\n",
       "      <td>52.730175</td>\n",
       "      <td>52.660532</td>\n",
       "      <td>100336.0</td>\n",
       "      <td>m</td>\n",
       "      <td>750.0</td>\n",
       "      <td>750.0</td>\n",
       "    </tr>\n",
       "    <tr>\n",
       "      <th>1</th>\n",
       "      <td>1.0</td>\n",
       "      <td>0.0</td>\n",
       "      <td>1.831848</td>\n",
       "      <td>77.11064</td>\n",
       "      <td>19.0</td>\n",
       "      <td>42.094453</td>\n",
       "      <td>42.220635</td>\n",
       "      <td>13545.0</td>\n",
       "      <td>f</td>\n",
       "      <td>675.0</td>\n",
       "      <td>675.0</td>\n",
       "    </tr>\n",
       "    <tr>\n",
       "      <th>2</th>\n",
       "      <td>0.0</td>\n",
       "      <td>1.0</td>\n",
       "      <td>1.533144</td>\n",
       "      <td>81.64656</td>\n",
       "      <td>57.0</td>\n",
       "      <td>53.254332</td>\n",
       "      <td>52.892782</td>\n",
       "      <td>99947.0</td>\n",
       "      <td>m</td>\n",
       "      <td>1000.0</td>\n",
       "      <td>1000.0</td>\n",
       "    </tr>\n",
       "    <tr>\n",
       "      <th>3</th>\n",
       "      <td>0.0</td>\n",
       "      <td>1.0</td>\n",
       "      <td>1.548384</td>\n",
       "      <td>74.84268</td>\n",
       "      <td>45.0</td>\n",
       "      <td>48.335994</td>\n",
       "      <td>48.488028</td>\n",
       "      <td>93580.0</td>\n",
       "      <td>m</td>\n",
       "      <td>1000.0</td>\n",
       "      <td>1000.0</td>\n",
       "    </tr>\n",
       "    <tr>\n",
       "      <th>4</th>\n",
       "      <td>0.0</td>\n",
       "      <td>1.0</td>\n",
       "      <td>1.545336</td>\n",
       "      <td>81.64656</td>\n",
       "      <td>19.0</td>\n",
       "      <td>52.834180</td>\n",
       "      <td>52.875884</td>\n",
       "      <td>99498.0</td>\n",
       "      <td>m</td>\n",
       "      <td>750.0</td>\n",
       "      <td>750.0</td>\n",
       "    </tr>\n",
       "  </tbody>\n",
       "</table>\n",
       "</div>"
      ],
      "text/plain": [
       "   gender__x0_Female  gender__x0_Male    height    weight   age        bmi  \\\n",
       "0                0.0              1.0  1.548384  81.64656  36.0  52.730175   \n",
       "1                1.0              0.0  1.831848  77.11064  19.0  42.094453   \n",
       "2                0.0              1.0  1.533144  81.64656  57.0  53.254332   \n",
       "3                0.0              1.0  1.548384  74.84268  45.0  48.335994   \n",
       "4                0.0              1.0  1.545336  81.64656  19.0  52.834180   \n",
       "\n",
       "    pred_bmi    app_id sex    cost  pred_cost  \n",
       "0  52.660532  100336.0   m   750.0      750.0  \n",
       "1  42.220635   13545.0   f   675.0      675.0  \n",
       "2  52.892782   99947.0   m  1000.0     1000.0  \n",
       "3  48.488028   93580.0   m  1000.0     1000.0  \n",
       "4  52.875884   99498.0   m   750.0      750.0  "
      ]
     },
     "execution_count": 44,
     "metadata": {},
     "output_type": "execute_result"
    }
   ],
   "source": [
    "pd_pred_train.head()"
   ]
  },
  {
   "cell_type": "code",
   "execution_count": 45,
   "metadata": {},
   "outputs": [
    {
     "data": {
      "text/plain": [
       "28.49577324244687"
      ]
     },
     "execution_count": 45,
     "metadata": {},
     "output_type": "execute_result"
    }
   ],
   "source": [
    "# minimum bmi value\n",
    "pd_pred_train['pred_bmi'].min()"
   ]
  },
  {
   "cell_type": "code",
   "execution_count": 46,
   "metadata": {},
   "outputs": [
    {
     "data": {
      "text/plain": [
       "64.89098785419704"
      ]
     },
     "execution_count": 46,
     "metadata": {},
     "output_type": "execute_result"
    }
   ],
   "source": [
    "# max bmi value\n",
    "pd_pred_train['pred_bmi'].max()"
   ]
  },
  {
   "cell_type": "markdown",
   "metadata": {},
   "source": [
    "#### predicted - Max age  is 49 & the cost is 1000 "
   ]
  },
  {
   "cell_type": "code",
   "execution_count": 47,
   "metadata": {},
   "outputs": [
    {
     "data": {
      "text/plain": [
       "1000.0"
      ]
     },
     "execution_count": 47,
     "metadata": {},
     "output_type": "execute_result"
    }
   ],
   "source": [
    "# max cost \n",
    "pd_pred_test['pred_cost'].max()"
   ]
  },
  {
   "cell_type": "code",
   "execution_count": 48,
   "metadata": {},
   "outputs": [
    {
     "data": {
      "text/plain": [
       "49.0"
      ]
     },
     "execution_count": 48,
     "metadata": {},
     "output_type": "execute_result"
    }
   ],
   "source": [
    "# max age in test data\n",
    "pd_pred_test['age'].max()"
   ]
  },
  {
   "cell_type": "markdown",
   "metadata": {},
   "source": [
    "#### Train data - Max age is 59 & the cost is 1000"
   ]
  },
  {
   "cell_type": "code",
   "execution_count": 49,
   "metadata": {},
   "outputs": [
    {
     "data": {
      "text/plain": [
       "59.0"
      ]
     },
     "execution_count": 49,
     "metadata": {},
     "output_type": "execute_result"
    }
   ],
   "source": [
    "# max age in testraint data\n",
    "pd_pred_train['age'].max()"
   ]
  },
  {
   "cell_type": "code",
   "execution_count": 50,
   "metadata": {},
   "outputs": [
    {
     "data": {
      "text/plain": [
       "1000.0"
      ]
     },
     "execution_count": 50,
     "metadata": {},
     "output_type": "execute_result"
    }
   ],
   "source": [
    "# max cost in testraint data\n",
    "pd_pred_train['pred_cost'].max()"
   ]
  },
  {
   "cell_type": "code",
   "execution_count": 51,
   "metadata": {},
   "outputs": [],
   "source": [
    "pd_pred_train.to_csv(\"predicted_cost_train.csv\")\n",
    "pd_pred_test.to_csv(\"predicted_cost_test.csv\")"
   ]
  }
 ],
 "metadata": {
  "kernelspec": {
   "display_name": "Python 3",
   "language": "python",
   "name": "python3"
  },
  "language_info": {
   "codemirror_mode": {
    "name": "ipython",
    "version": 3
   },
   "file_extension": ".py",
   "mimetype": "text/x-python",
   "name": "python",
   "nbconvert_exporter": "python",
   "pygments_lexer": "ipython3",
   "version": "3.8.5"
  }
 },
 "nbformat": 4,
 "nbformat_minor": 4
}
