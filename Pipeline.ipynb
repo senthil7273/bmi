{
 "cells": [
  {
   "cell_type": "markdown",
   "metadata": {},
   "source": [
    "### Objectives:\n",
    "1) Create the training dataset based on the BMI & cost business rules. \n",
    "\n",
    "2) Develop a model to predict COST. The thinking process is more \n",
    "important than the actual model or model metrics.\n",
    "\n",
    "3) Write steps to operationalize the model. \n",
    "Dataset: The data to be used is given in the zip folder as a csv file.\n",
    "\n",
    "In the Dataset (Sample.csv), you are provided with 100 different applicant information describing 6 different \n",
    "attributes.\n",
    "\n",
    "#### Variable Description \n",
    "\n",
    "AppID Anonymized Applicant ID \n",
    "\n",
    "Ins_Age Applicant Age\n",
    "\n",
    "Ins_Gender Applicant Gender\n",
    "\n",
    "Ht Height of the Applicant in Ft with Inches, The first digit \n",
    "refers to the ft and the following digits refers to the \n",
    "inches. For example, 507 means 5 ft and 7 inches.\n",
    "\n",
    "Wt Weight of the Applicant in pounds.\n",
    "Issue_Date Date of Application (Can be Null"
   ]
  },
  {
   "cell_type": "code",
   "execution_count": 1,
   "metadata": {},
   "outputs": [],
   "source": [
    "from __future__ import annotations\n",
    "from abc import ABC, abstractmethod\n",
    "\n",
    "import pandas as pd\n",
    "import numpy as np\n",
    "import matplotlib.pyplot as plt\n",
    "\n",
    "from sklearn.preprocessing import OneHotEncoder\n",
    "from sklearn.metrics import mean_squared_error, r2_score\n",
    "from sklearn.preprocessing import StandardScaler, OneHotEncoder\n",
    "from sklearn.linear_model import LinearRegression, Lasso\n",
    "from sklearn.model_selection import train_test_split, GridSearchCV\n",
    "\n",
    "from sklearn.pipeline import Pipeline, FeatureUnion"
   ]
  },
  {
   "cell_type": "markdown",
   "metadata": {},
   "source": [
    "### BASIC EDA"
   ]
  },
  {
   "cell_type": "code",
   "execution_count": 2,
   "metadata": {},
   "outputs": [
    {
     "data": {
      "text/html": [
       "<div>\n",
       "<style scoped>\n",
       "    .dataframe tbody tr th:only-of-type {\n",
       "        vertical-align: middle;\n",
       "    }\n",
       "\n",
       "    .dataframe tbody tr th {\n",
       "        vertical-align: top;\n",
       "    }\n",
       "\n",
       "    .dataframe thead th {\n",
       "        text-align: right;\n",
       "    }\n",
       "</style>\n",
       "<table border=\"1\" class=\"dataframe\">\n",
       "  <thead>\n",
       "    <tr style=\"text-align: right;\">\n",
       "      <th></th>\n",
       "      <th>AppID</th>\n",
       "      <th>Ins_Age</th>\n",
       "      <th>Ins_Gender</th>\n",
       "      <th>Ht</th>\n",
       "      <th>Wt</th>\n",
       "      <th>IssueDate</th>\n",
       "    </tr>\n",
       "  </thead>\n",
       "  <tbody>\n",
       "    <tr>\n",
       "      <th>0</th>\n",
       "      <td>56372</td>\n",
       "      <td>31</td>\n",
       "      <td>Male</td>\n",
       "      <td>510</td>\n",
       "      <td>185</td>\n",
       "      <td>NaN</td>\n",
       "    </tr>\n",
       "    <tr>\n",
       "      <th>1</th>\n",
       "      <td>34565</td>\n",
       "      <td>35</td>\n",
       "      <td>Male</td>\n",
       "      <td>510</td>\n",
       "      <td>205</td>\n",
       "      <td>NaN</td>\n",
       "    </tr>\n",
       "    <tr>\n",
       "      <th>2</th>\n",
       "      <td>57732</td>\n",
       "      <td>45</td>\n",
       "      <td>Female</td>\n",
       "      <td>510</td>\n",
       "      <td>125</td>\n",
       "      <td>NaN</td>\n",
       "    </tr>\n",
       "    <tr>\n",
       "      <th>3</th>\n",
       "      <td>87324</td>\n",
       "      <td>38</td>\n",
       "      <td>Male</td>\n",
       "      <td>503</td>\n",
       "      <td>175</td>\n",
       "      <td>NaN</td>\n",
       "    </tr>\n",
       "    <tr>\n",
       "      <th>4</th>\n",
       "      <td>12323</td>\n",
       "      <td>39</td>\n",
       "      <td>Female</td>\n",
       "      <td>600</td>\n",
       "      <td>252</td>\n",
       "      <td>NaN</td>\n",
       "    </tr>\n",
       "  </tbody>\n",
       "</table>\n",
       "</div>"
      ],
      "text/plain": [
       "   AppID  Ins_Age Ins_Gender   Ht   Wt  IssueDate\n",
       "0  56372       31       Male  510  185        NaN\n",
       "1  34565       35       Male  510  205        NaN\n",
       "2  57732       45     Female  510  125        NaN\n",
       "3  87324       38       Male  503  175        NaN\n",
       "4  12323       39     Female  600  252        NaN"
      ]
     },
     "execution_count": 2,
     "metadata": {},
     "output_type": "execute_result"
    }
   ],
   "source": [
    "df_base = pd.read_csv(\"Dummy-Data.csv\")\n",
    "df_base.head()\n",
    "\n"
   ]
  },
  {
   "cell_type": "code",
   "execution_count": 3,
   "metadata": {},
   "outputs": [],
   "source": [
    "# Renaming feature names for better consistency\n",
    "df_base.rename(columns = {'AppID':'app_id', \n",
    "                'Ins_Age':'age', \n",
    "                'Ins_Gender':'gender', \n",
    "                'Ht': 'height',\n",
    "                'Wt':'weight',\n",
    "               'IssueDate':'issue_date'}, inplace=True)"
   ]
  },
  {
   "cell_type": "code",
   "execution_count": 4,
   "metadata": {},
   "outputs": [
    {
     "data": {
      "text/html": [
       "<div>\n",
       "<style scoped>\n",
       "    .dataframe tbody tr th:only-of-type {\n",
       "        vertical-align: middle;\n",
       "    }\n",
       "\n",
       "    .dataframe tbody tr th {\n",
       "        vertical-align: top;\n",
       "    }\n",
       "\n",
       "    .dataframe thead th {\n",
       "        text-align: right;\n",
       "    }\n",
       "</style>\n",
       "<table border=\"1\" class=\"dataframe\">\n",
       "  <thead>\n",
       "    <tr style=\"text-align: right;\">\n",
       "      <th></th>\n",
       "      <th>app_id</th>\n",
       "      <th>age</th>\n",
       "      <th>height</th>\n",
       "      <th>weight</th>\n",
       "      <th>issue_date</th>\n",
       "    </tr>\n",
       "  </thead>\n",
       "  <tbody>\n",
       "    <tr>\n",
       "      <th>count</th>\n",
       "      <td>100.000000</td>\n",
       "      <td>100.000000</td>\n",
       "      <td>100.000000</td>\n",
       "      <td>100.00000</td>\n",
       "      <td>0.0</td>\n",
       "    </tr>\n",
       "    <tr>\n",
       "      <th>mean</th>\n",
       "      <td>79455.570000</td>\n",
       "      <td>37.320000</td>\n",
       "      <td>527.720000</td>\n",
       "      <td>165.15000</td>\n",
       "      <td>NaN</td>\n",
       "    </tr>\n",
       "    <tr>\n",
       "      <th>std</th>\n",
       "      <td>31123.726942</td>\n",
       "      <td>12.103827</td>\n",
       "      <td>39.482787</td>\n",
       "      <td>27.66224</td>\n",
       "      <td>NaN</td>\n",
       "    </tr>\n",
       "    <tr>\n",
       "      <th>min</th>\n",
       "      <td>12123.000000</td>\n",
       "      <td>19.000000</td>\n",
       "      <td>500.000000</td>\n",
       "      <td>110.00000</td>\n",
       "      <td>NaN</td>\n",
       "    </tr>\n",
       "    <tr>\n",
       "      <th>25%</th>\n",
       "      <td>64296.000000</td>\n",
       "      <td>27.750000</td>\n",
       "      <td>506.000000</td>\n",
       "      <td>145.00000</td>\n",
       "      <td>NaN</td>\n",
       "    </tr>\n",
       "    <tr>\n",
       "      <th>50%</th>\n",
       "      <td>99444.500000</td>\n",
       "      <td>36.000000</td>\n",
       "      <td>509.000000</td>\n",
       "      <td>170.00000</td>\n",
       "      <td>NaN</td>\n",
       "    </tr>\n",
       "    <tr>\n",
       "      <th>75%</th>\n",
       "      <td>99917.000000</td>\n",
       "      <td>47.000000</td>\n",
       "      <td>511.000000</td>\n",
       "      <td>180.00000</td>\n",
       "      <td>NaN</td>\n",
       "    </tr>\n",
       "    <tr>\n",
       "      <th>max</th>\n",
       "      <td>100345.000000</td>\n",
       "      <td>59.000000</td>\n",
       "      <td>605.000000</td>\n",
       "      <td>275.00000</td>\n",
       "      <td>NaN</td>\n",
       "    </tr>\n",
       "  </tbody>\n",
       "</table>\n",
       "</div>"
      ],
      "text/plain": [
       "              app_id         age      height     weight  issue_date\n",
       "count     100.000000  100.000000  100.000000  100.00000         0.0\n",
       "mean    79455.570000   37.320000  527.720000  165.15000         NaN\n",
       "std     31123.726942   12.103827   39.482787   27.66224         NaN\n",
       "min     12123.000000   19.000000  500.000000  110.00000         NaN\n",
       "25%     64296.000000   27.750000  506.000000  145.00000         NaN\n",
       "50%     99444.500000   36.000000  509.000000  170.00000         NaN\n",
       "75%     99917.000000   47.000000  511.000000  180.00000         NaN\n",
       "max    100345.000000   59.000000  605.000000  275.00000         NaN"
      ]
     },
     "execution_count": 4,
     "metadata": {},
     "output_type": "execute_result"
    }
   ],
   "source": [
    "df_base.describe()"
   ]
  },
  {
   "cell_type": "code",
   "execution_count": 5,
   "metadata": {},
   "outputs": [
    {
     "name": "stderr",
     "output_type": "stream",
     "text": [
      "C:\\Users\\91995\\AppData\\Local\\Packages\\PythonSoftwareFoundation.Python.3.8_qbz5n2kfra8p0\\LocalCache\\local-packages\\Python38\\site-packages\\pandas\\io\\formats\\style.py:1126: RuntimeWarning: All-NaN slice encountered\n",
      "  smin = np.nanmin(s.to_numpy()) if vmin is None else vmin\n",
      "C:\\Users\\91995\\AppData\\Local\\Packages\\PythonSoftwareFoundation.Python.3.8_qbz5n2kfra8p0\\LocalCache\\local-packages\\Python38\\site-packages\\pandas\\io\\formats\\style.py:1127: RuntimeWarning: All-NaN slice encountered\n",
      "  smax = np.nanmax(s.to_numpy()) if vmax is None else vmax\n"
     ]
    },
    {
     "data": {
      "text/html": [
       "<style  type=\"text/css\" >\n",
       "#T_21269730_78d4_11ec_bffc_28cdc4579c06row0_col0,#T_21269730_78d4_11ec_bffc_28cdc4579c06row1_col1,#T_21269730_78d4_11ec_bffc_28cdc4579c06row2_col2,#T_21269730_78d4_11ec_bffc_28cdc4579c06row3_col3{\n",
       "            background-color:  #b40426;\n",
       "            color:  #f1f1f1;\n",
       "        }#T_21269730_78d4_11ec_bffc_28cdc4579c06row0_col1{\n",
       "            background-color:  #6f92f3;\n",
       "            color:  #000000;\n",
       "        }#T_21269730_78d4_11ec_bffc_28cdc4579c06row0_col2,#T_21269730_78d4_11ec_bffc_28cdc4579c06row0_col3,#T_21269730_78d4_11ec_bffc_28cdc4579c06row2_col0,#T_21269730_78d4_11ec_bffc_28cdc4579c06row3_col0,#T_21269730_78d4_11ec_bffc_28cdc4579c06row3_col1{\n",
       "            background-color:  #3b4cc0;\n",
       "            color:  #f1f1f1;\n",
       "        }#T_21269730_78d4_11ec_bffc_28cdc4579c06row0_col4,#T_21269730_78d4_11ec_bffc_28cdc4579c06row1_col4,#T_21269730_78d4_11ec_bffc_28cdc4579c06row2_col4,#T_21269730_78d4_11ec_bffc_28cdc4579c06row3_col4,#T_21269730_78d4_11ec_bffc_28cdc4579c06row4_col0,#T_21269730_78d4_11ec_bffc_28cdc4579c06row4_col1,#T_21269730_78d4_11ec_bffc_28cdc4579c06row4_col2,#T_21269730_78d4_11ec_bffc_28cdc4579c06row4_col3,#T_21269730_78d4_11ec_bffc_28cdc4579c06row4_col4{\n",
       "            background-color:  #000000;\n",
       "            color:  #f1f1f1;\n",
       "        }#T_21269730_78d4_11ec_bffc_28cdc4579c06row1_col0{\n",
       "            background-color:  #8fb1fe;\n",
       "            color:  #000000;\n",
       "        }#T_21269730_78d4_11ec_bffc_28cdc4579c06row1_col2{\n",
       "            background-color:  #6c8ff1;\n",
       "            color:  #000000;\n",
       "        }#T_21269730_78d4_11ec_bffc_28cdc4579c06row1_col3{\n",
       "            background-color:  #5b7ae5;\n",
       "            color:  #000000;\n",
       "        }#T_21269730_78d4_11ec_bffc_28cdc4579c06row2_col1{\n",
       "            background-color:  #4b64d5;\n",
       "            color:  #f1f1f1;\n",
       "        }#T_21269730_78d4_11ec_bffc_28cdc4579c06row2_col3,#T_21269730_78d4_11ec_bffc_28cdc4579c06row3_col2{\n",
       "            background-color:  #6687ed;\n",
       "            color:  #000000;\n",
       "        }</style><table id=\"T_21269730_78d4_11ec_bffc_28cdc4579c06\" ><thead>    <tr>        <th class=\"blank level0\" ></th>        <th class=\"col_heading level0 col0\" >app_id</th>        <th class=\"col_heading level0 col1\" >age</th>        <th class=\"col_heading level0 col2\" >height</th>        <th class=\"col_heading level0 col3\" >weight</th>        <th class=\"col_heading level0 col4\" >issue_date</th>    </tr></thead><tbody>\n",
       "                <tr>\n",
       "                        <th id=\"T_21269730_78d4_11ec_bffc_28cdc4579c06level0_row0\" class=\"row_heading level0 row0\" >app_id</th>\n",
       "                        <td id=\"T_21269730_78d4_11ec_bffc_28cdc4579c06row0_col0\" class=\"data row0 col0\" >1.000000</td>\n",
       "                        <td id=\"T_21269730_78d4_11ec_bffc_28cdc4579c06row0_col1\" class=\"data row0 col1\" >0.101992</td>\n",
       "                        <td id=\"T_21269730_78d4_11ec_bffc_28cdc4579c06row0_col2\" class=\"data row0 col2\" >-0.209433</td>\n",
       "                        <td id=\"T_21269730_78d4_11ec_bffc_28cdc4579c06row0_col3\" class=\"data row0 col3\" >-0.207522</td>\n",
       "                        <td id=\"T_21269730_78d4_11ec_bffc_28cdc4579c06row0_col4\" class=\"data row0 col4\" >nan</td>\n",
       "            </tr>\n",
       "            <tr>\n",
       "                        <th id=\"T_21269730_78d4_11ec_bffc_28cdc4579c06level0_row1\" class=\"row_heading level0 row1\" >age</th>\n",
       "                        <td id=\"T_21269730_78d4_11ec_bffc_28cdc4579c06row1_col0\" class=\"data row1 col0\" >0.101992</td>\n",
       "                        <td id=\"T_21269730_78d4_11ec_bffc_28cdc4579c06row1_col1\" class=\"data row1 col1\" >1.000000</td>\n",
       "                        <td id=\"T_21269730_78d4_11ec_bffc_28cdc4579c06row1_col2\" class=\"data row1 col2\" >-0.016107</td>\n",
       "                        <td id=\"T_21269730_78d4_11ec_bffc_28cdc4579c06row1_col3\" class=\"data row1 col3\" >-0.078824</td>\n",
       "                        <td id=\"T_21269730_78d4_11ec_bffc_28cdc4579c06row1_col4\" class=\"data row1 col4\" >nan</td>\n",
       "            </tr>\n",
       "            <tr>\n",
       "                        <th id=\"T_21269730_78d4_11ec_bffc_28cdc4579c06level0_row2\" class=\"row_heading level0 row2\" >height</th>\n",
       "                        <td id=\"T_21269730_78d4_11ec_bffc_28cdc4579c06row2_col0\" class=\"data row2 col0\" >-0.209433</td>\n",
       "                        <td id=\"T_21269730_78d4_11ec_bffc_28cdc4579c06row2_col1\" class=\"data row2 col1\" >-0.016107</td>\n",
       "                        <td id=\"T_21269730_78d4_11ec_bffc_28cdc4579c06row2_col2\" class=\"data row2 col2\" >1.000000</td>\n",
       "                        <td id=\"T_21269730_78d4_11ec_bffc_28cdc4579c06row2_col3\" class=\"data row2 col3\" >-0.040016</td>\n",
       "                        <td id=\"T_21269730_78d4_11ec_bffc_28cdc4579c06row2_col4\" class=\"data row2 col4\" >nan</td>\n",
       "            </tr>\n",
       "            <tr>\n",
       "                        <th id=\"T_21269730_78d4_11ec_bffc_28cdc4579c06level0_row3\" class=\"row_heading level0 row3\" >weight</th>\n",
       "                        <td id=\"T_21269730_78d4_11ec_bffc_28cdc4579c06row3_col0\" class=\"data row3 col0\" >-0.207522</td>\n",
       "                        <td id=\"T_21269730_78d4_11ec_bffc_28cdc4579c06row3_col1\" class=\"data row3 col1\" >-0.078824</td>\n",
       "                        <td id=\"T_21269730_78d4_11ec_bffc_28cdc4579c06row3_col2\" class=\"data row3 col2\" >-0.040016</td>\n",
       "                        <td id=\"T_21269730_78d4_11ec_bffc_28cdc4579c06row3_col3\" class=\"data row3 col3\" >1.000000</td>\n",
       "                        <td id=\"T_21269730_78d4_11ec_bffc_28cdc4579c06row3_col4\" class=\"data row3 col4\" >nan</td>\n",
       "            </tr>\n",
       "            <tr>\n",
       "                        <th id=\"T_21269730_78d4_11ec_bffc_28cdc4579c06level0_row4\" class=\"row_heading level0 row4\" >issue_date</th>\n",
       "                        <td id=\"T_21269730_78d4_11ec_bffc_28cdc4579c06row4_col0\" class=\"data row4 col0\" >nan</td>\n",
       "                        <td id=\"T_21269730_78d4_11ec_bffc_28cdc4579c06row4_col1\" class=\"data row4 col1\" >nan</td>\n",
       "                        <td id=\"T_21269730_78d4_11ec_bffc_28cdc4579c06row4_col2\" class=\"data row4 col2\" >nan</td>\n",
       "                        <td id=\"T_21269730_78d4_11ec_bffc_28cdc4579c06row4_col3\" class=\"data row4 col3\" >nan</td>\n",
       "                        <td id=\"T_21269730_78d4_11ec_bffc_28cdc4579c06row4_col4\" class=\"data row4 col4\" >nan</td>\n",
       "            </tr>\n",
       "    </tbody></table>"
      ],
      "text/plain": [
       "<pandas.io.formats.style.Styler at 0x2ab61f5a2b0>"
      ]
     },
     "execution_count": 5,
     "metadata": {},
     "output_type": "execute_result"
    }
   ],
   "source": [
    "\n",
    "corr = df_base.corr()\n",
    "# plot the heatmap\n",
    "corr.style.background_gradient(cmap='coolwarm')\n",
    "#no strongly correlated features found, all features can be used to predict the bmi"
   ]
  },
  {
   "cell_type": "code",
   "execution_count": 6,
   "metadata": {},
   "outputs": [
    {
     "data": {
      "text/plain": [
       "<AxesSubplot:>"
      ]
     },
     "execution_count": 6,
     "metadata": {},
     "output_type": "execute_result"
    },
    {
     "data": {
      "image/png": "[encoded data removed]",
      "text/plain": [
       "<Figure size 432x288 with 1 Axes>"
      ]
     },
     "metadata": {
      "needs_background": "light"
     },
     "output_type": "display_data"
    }
   ],
   "source": [
    "df_base['age'].hist()\n",
    "# age of the people are distributed between 19 & below 60"
   ]
  },
  {
   "cell_type": "code",
   "execution_count": 7,
   "metadata": {},
   "outputs": [
    {
     "data": {
      "text/plain": [
       "<AxesSubplot:>"
      ]
     },
     "execution_count": 7,
     "metadata": {},
     "output_type": "execute_result"
    },
    {
     "data": {
      "image/png": "[encoded data removed]",
      "text/plain": [
       "<Figure size 432x288 with 1 Axes>"
      ]
     },
     "metadata": {
      "needs_background": "light"
     },
     "output_type": "display_data"
    }
   ],
   "source": [
    "df_base['gender'].hist()\n",
    "# dataset represents more data for male than female, which can be balanced on data augumentation to avoid bias towards male."
   ]
  },
  {
   "cell_type": "code",
   "execution_count": 8,
   "metadata": {},
   "outputs": [
    {
     "data": {
      "text/plain": [
       "<AxesSubplot:>"
      ]
     },
     "execution_count": 8,
     "metadata": {},
     "output_type": "execute_result"
    },
    {
     "data": {
      "image/png": "[encoded data removed]",
      "text/plain": [
       "<Figure size 432x288 with 1 Axes>"
      ]
     },
     "metadata": {
      "needs_background": "light"
     },
     "output_type": "display_data"
    }
   ],
   "source": [
    " df_base.boxplot(column=['height'])\n",
    "#some outliers"
   ]
  },
  {
   "cell_type": "code",
   "execution_count": 9,
   "metadata": {},
   "outputs": [
    {
     "data": {
      "text/plain": [
       "<AxesSubplot:>"
      ]
     },
     "execution_count": 9,
     "metadata": {},
     "output_type": "execute_result"
    },
    {
     "data": {
      "image/png": "[encoded data removed]",
      "text/plain": [
       "<Figure size 432x288 with 1 Axes>"
      ]
     },
     "metadata": {
      "needs_background": "light"
     },
     "output_type": "display_data"
    }
   ],
   "source": [
    " df_base.boxplot(column=['weight'])\n",
    "#outliers"
   ]
  },
  {
   "cell_type": "markdown",
   "metadata": {},
   "source": [
    "### DATA Pre-Processing"
   ]
  },
  {
   "cell_type": "markdown",
   "metadata": {},
   "source": [
    "State Behavioural design pattern is used to design the simple pipeline without using any sklearn's pipeline. States can be skipped or moved back & forth based on conditions, which gives great flexibility for extension.\n",
    "\n",
    "Since there is no missing values or null data, Transformers is used convert Pounds to Kg, Inch to Meter Square & calculate BMI.\n",
    "Later on, if we get any mixed metrics such as kg, pound, ounces, inches, feet, meter from different datasources, these trasformers can be extended or updated to support it."
   ]
  },
  {
   "cell_type": "code",
   "execution_count": 10,
   "metadata": {},
   "outputs": [],
   "source": [
    "#  file names used for the data source\n",
    "class DataFile(object):\n",
    "    SRC_F_NAME = \"Dummy-Data.csv\"\n",
    "    INT_F_NAME = \"Imputed-Data.csv\"\n",
    "    TRAIN_F_NAME = \"Imputed-Data-Train.csv\"\n",
    "    TEST_F_NAME = \"Imputed-Data-Test.csv\"\n",
    "\n",
    "\n",
    "class Imputer(ABC):\n",
    "\n",
    "    @property\n",
    "    def context(self) -> Context:\n",
    "        return self._context\n",
    "\n",
    "    @context.setter\n",
    "    def context(self, context: Context) -> None:\n",
    "        self._context = context\n",
    "\n",
    "    @abstractmethod\n",
    "    def impute():\n",
    "        pass\n",
    "    \n",
    "\n",
    "    \n",
    "class Context:\n",
    "    # current state of the machine\n",
    "    _state = None\n",
    "    # holdstrain or test venvironment\n",
    "    _env = None\n",
    "    # true: train/test split is done, false: no split is done\n",
    "    is_split = False\n",
    "    # renamed features to be used in the train/test dataset\n",
    "    FEATURES ={'KEY_ID':'app_id', \n",
    "                'KEY_AGE':'age', \n",
    "                'KEY_GENDER':'gender', \n",
    "                'KEY_HEIGHT': 'height',\n",
    "                'KEY_WEIGHT':'weight',\n",
    "                'KEY_ISSUE_DATE':'issue_date',\n",
    "                'KEY_BMI':'bmi'}\n",
    "    # name of the target feature\n",
    "    TARGET = \"cost\"\n",
    "    # holds the old & new name of all features\n",
    "    FEATURES_OLD = {'AppID':FEATURES['KEY_ID'], \n",
    "                'Ins_Age':FEATURES['KEY_AGE'], \n",
    "                'Ins_Gender': FEATURES['KEY_GENDER'], \n",
    "                'Ht': FEATURES['KEY_HEIGHT'],\n",
    "                'Wt': FEATURES['KEY_WEIGHT'],\n",
    "               'IssueDate': FEATURES['KEY_ISSUE_DATE']}\n",
    "    \"\"\"\n",
    "    A reference to the current state of the Context.\n",
    "    \"\"\"\n",
    "\n",
    "    def __init__(self, state: Imputer, env = None) -> None:\n",
    "        self.transition_to(state)\n",
    "        self._env = env\n",
    "        \n",
    "    def transition_to(self, state: Imputer):\n",
    "        \"\"\"\n",
    "        The Context allows changing the State object at runtime.\n",
    "        \"\"\"\n",
    "\n",
    "        print(f\"Context: Transition to {type(state).__name__}\")\n",
    "        self._state = state\n",
    "        self._state.context = self\n",
    "        \n",
    "    # this should be moved to another class\n",
    "    def split_df(self):\n",
    "        '''\n",
    "        Splits the dataset into train & test set, stores to csv files\n",
    "        '''\n",
    "        self.is_split = True\n",
    "        df = pd.read_csv(DataFile.INT_F_NAME)\n",
    "        df_train, df_test = train_test_split(df, test_size=0.2)\n",
    "        df_train.to_csv(DataFile.TRAIN_F_NAME, index=False)\n",
    "        df_test.to_csv(DataFile.TEST_F_NAME, index=False)\n",
    "        \n",
    "    # this should be moved to another class\n",
    "    def read_csv(self) -> df:\n",
    "        '''\n",
    "            FNameImputer is the initial state on initializing the state machine.\n",
    "            It returns the source csv file (DataFile.SRC_F_NAME)  \n",
    "        '''\n",
    "        if type(self._state).__name__ == \"FNameImputer\":\n",
    "            df = pd.read_csv(DataFile.SRC_F_NAME)\n",
    "            return df\n",
    "        '''\n",
    "            Until imputation, intermediate pre-processed csv file(DataFile.INT_F_NAME) is returned for \n",
    "            removing empty columns, renaming features & removing duplicate instances.\n",
    "        '''\n",
    "        \n",
    "        if self.is_split == False:\n",
    "            df = pd.read_csv(DataFile.INT_F_NAME)\n",
    "            return df\n",
    "        else:\n",
    "            '''\n",
    "            For Imputations such as feature transformations, impute missing values/categorical features, \n",
    "            splitted train & test data is returned/used.\n",
    "            '''\n",
    "            df_train = pd.read_csv(DataFile.TRAIN_F_NAME)\n",
    "            df_test = pd.read_csv(DataFile.TEST_F_NAME)\n",
    "            return df_train, df_test\n",
    "    \n",
    "    # this should be moved to another class\n",
    "    def to_csv(self, df_train, df_test = None):\n",
    "        # saves train, test & intermediate csv files to disk.\n",
    "        if self.is_split == False:\n",
    "            df_train.to_csv(DataFile.INT_F_NAME, index=False)\n",
    "        else:\n",
    "            df_train.to_csv(DataFile.TRAIN_F_NAME, index=False)\n",
    "            df_test.to_csv(DataFile.TEST_F_NAME, index=False)\n",
    "        \n",
    "    def to_csvs(self, df_train, df_test):\n",
    "        # saves train, test  csv files to disk.\n",
    "        df_train.to_csv(DataFile.TRAIN_F_NAME, index=False)\n",
    "        df_test.to_csv(DataFile.TEST_F_NAME, index=False)\n",
    "       \n",
    "    def remove_outliers(self):\n",
    "        # removes outliers\n",
    "        self._state.impute()\n",
    "        \n",
    "    def rename_features(self):\n",
    "        # renames feature/column names\n",
    "        self._state.impute()\n",
    "    \n",
    "    def impute_missing_values(self):\n",
    "        # impute missing values\n",
    "        self._state.impute()\n",
    "        \n",
    "    def remove_outliers(self):\n",
    "        # removes outliers based on IQR\n",
    "        self._state.impute() \n",
    "        \n",
    "    def impute_height(self):\n",
    "        # transforms height \n",
    "        self._state.impute()\n",
    "\n",
    "    def impute_weight(self):\n",
    "        # transforms weight\n",
    "        self._state.impute()\n",
    "    \n",
    "    def impute_bmi(self):\n",
    "        # calculates bmi\n",
    "        self._state.impute()\n",
    "        \n",
    "    def impute_null_cols(self):\n",
    "        # removes empty columns/features\n",
    "        self._state.impute()\n",
    "        \n",
    "    def impute_duplicate(self):\n",
    "        # removes duplicate instances \n",
    "        self._state.impute()\n",
    "               \n",
    "    def calculate_cost(self):\n",
    "        # calculates cost based on business rules\n",
    "        self._state.impute()\n",
    "        \n",
    "    def impute_cat(self):\n",
    "        # encodes categorical features\n",
    "        self._state.impute()\n",
    " "
   ]
  },
  {
   "cell_type": "markdown",
   "metadata": {},
   "source": [
    "classes are defined based on features & its data cleaning, imputation, transformation process/steps"
   ]
  },
  {
   "cell_type": "code",
   "execution_count": 11,
   "metadata": {},
   "outputs": [],
   "source": [
    "\n",
    "class FNameImputer(Imputer):\n",
    "    def impute(self):\n",
    "        print(\"renaming features\")\n",
    "        df = self.context.read_csv()\n",
    "        df.rename(columns = self.context.FEATURES_OLD, inplace=True)\n",
    "        self.context.to_csv(df)\n",
    "        #transition is used across all Imputers/Transformers.\n",
    "        # conditions can be added to chage the workflow based on the data\n",
    "        self.context.transition_to(EmptyColImputer())\n",
    "\n",
    "class EmptyColImputer(Imputer):\n",
    "    '''\n",
    "        Removes empty features/columns\n",
    "    '''\n",
    "    def impute(self):\n",
    "        print(\"Removing empty columns\")\n",
    "        df = self.context.read_csv()\n",
    "        df.dropna(inplace=True, axis=1, how='all')\n",
    "        self.context.to_csv(df)\n",
    "        self.context.transition_to(DuplicateImputer())\n",
    "\n",
    "class DuplicateImputer(Imputer):\n",
    "    '''\n",
    "        Removes duplicate instances based on a primary key\n",
    "    '''\n",
    "    def impute(self):\n",
    "        KEY = self.context.FEATURES.get('KEY_ID')\n",
    "        print(f\"removing duplicate instances based on :{KEY}\") \n",
    "        df = self.context.read_csv()\n",
    "        df = df.drop_duplicates(subset=[KEY])\n",
    "        self.context.to_csv(df)\n",
    "        # enable split for further imputation, cleaning & analysis\n",
    "        self.context.split_df()\n",
    "        self.context.transition_to(MissingImputer())\n",
    "        \n",
    "\n",
    "class MissingImputer(Imputer):\n",
    "    def impute(self):\n",
    "        print(\"Imputing missing values\")\n",
    "        # no missing values in the dataset, so added stub or skipping the process\n",
    "        self.context.transition_to(OutlierHandler())\n",
    "\n",
    "class OutlierHandler(Imputer):\n",
    "    \n",
    "    # reused method from a blog\n",
    "    def remove_outliers(self, df, KEY):\n",
    "        '''\n",
    "        df - test/train dataframe\n",
    "        KEY - name of the feature\n",
    "        '''\n",
    "       # Computing IQR\n",
    "        Q1 = df[KEY].quantile(0.15)\n",
    "        Q3 = df[KEY].quantile(0.85)\n",
    "        IQR = Q3 - Q1\n",
    "\n",
    "        # Filtering Values between Q1-1.5IQR and Q3+1.5IQR\n",
    "        df_filtered = df.query('(@Q1 - 1.5 * @IQR) <= {0} <= (@Q3 + 1.5 * @IQR)'.format(KEY))\n",
    "        return df_filtered\n",
    "    \n",
    "    def remove_mul_outliers(self, df, KEYS):\n",
    "        '''\n",
    "        Removes outliers of features\n",
    "        \n",
    "        df - test/train dataframe\n",
    "        KEYS - name of the features\n",
    "        '''\n",
    "        df_cp = df.copy()\n",
    "        for KEY in KEYS:\n",
    "            df_cp = self.remove_outliers(df_cp, KEY)\n",
    "        return df_cp\n",
    "    \n",
    "    def impute(self):\n",
    "        print(\"Removing outliers\")\n",
    "        df_train, df_test = self.context.read_csv()\n",
    "        #this method can be updated to handle outliers across all numerical features\n",
    "        KEYS = [self.context.FEATURES.get('KEY_WEIGHT'), \n",
    "                self.context.FEATURES.get('KEY_HEIGHT')]\n",
    "        \n",
    "        df_train = self.remove_mul_outliers(df_train, KEYS)\n",
    "        df_test = self.remove_mul_outliers(df_test, KEYS)\n",
    "        self.context.to_csv(df_train, df_test)\n",
    "        self.context.transition_to(HeightImputer())\n",
    "        \n",
    "class HeightImputer(Imputer):\n",
    "    \n",
    "    def transform_height(self, df, KEY):\n",
    "        '''\n",
    "        Transforms height from feet,inch to meter square\n",
    "        \n",
    "        df - test/train dataframe\n",
    "        KEY - name of the feature\n",
    "        '''\n",
    "        df[KEY] =  (df[KEY] / 100) * 0.3048\n",
    "        return df\n",
    "    \n",
    "    def impute(self):\n",
    "        print(\"Converting height from feet,inches to meter square\")\n",
    "        KEY = self.context.FEATURES.get('KEY_HEIGHT')\n",
    "        df_train, df_test = self.context.read_csv()\n",
    "        df_train = self.transform_height(df_train, KEY)\n",
    "        df_test = self.transform_height(df_test, KEY)\n",
    "        self.context.to_csv(df_train, df_test)\n",
    "        self.context.transition_to(WeightImputer())\n",
    "\n",
    "class WeightImputer(Imputer):\n",
    "    \n",
    "    def transform_weight(self, df, KEY):\n",
    "        '''\n",
    "        Transforms weight from pounds to kg\n",
    "        \n",
    "        df - test/train dataframe\n",
    "        KEY - name of the feature\n",
    "        '''\n",
    "        df[KEY] = df[KEY] * 0.3048\n",
    "        return df\n",
    "        \n",
    "    def impute(self):\n",
    "        print(\"converting weight - pounds to kg\")\n",
    "        KEY = self.context.FEATURES.get('KEY_WEIGHT')\n",
    "        df_train, df_test = self.context.read_csv()\n",
    "        df_train = self.transform_weight(df_train, KEY)\n",
    "        df_test = self.transform_weight(df_test, KEY)\n",
    "        self.context.to_csv(df_train, df_test)\n",
    "        self.context.transition_to(BMIImputer())\n",
    "\n",
    "class BMIImputer(Imputer):\n",
    "    \n",
    "    def calculate_bmi(self, df):\n",
    "        '''\n",
    "        Calculates bmi = weight in kg/ height in meter square\n",
    "        \n",
    "        df - test/train dataframe\n",
    "        '''\n",
    "        KEY = self.context.FEATURES.get('KEY_BMI')\n",
    "        KEY_HEIGHT = self.context.FEATURES.get('KEY_HEIGHT')\n",
    "        KEY_WEIGHT = self.context.FEATURES.get('KEY_WEIGHT')\n",
    "        df[KEY] = 0\n",
    "        df[KEY] = df[KEY_WEIGHT] / df[KEY_HEIGHT]\n",
    "        return df\n",
    "   \n",
    "    def impute(self):\n",
    "        print(\"Calculate BMI\")\n",
    "        df_train, df_test = self.context.read_csv()\n",
    "        df_train = self.calculate_bmi(df_train)\n",
    "        df_test = self.calculate_bmi(df_test)\n",
    "        self.context.to_csv(df_train, df_test)\n",
    "        self.context.transition_to(CostImputer())\n",
    "        \n",
    "class CostImputer(Imputer):\n",
    "    \n",
    "    def calculate_cost(self, age, bmi, sex):\n",
    "        '''\n",
    "            age - age of the member\n",
    "            bmi - body mass index\n",
    "            sex - m or f or any\n",
    "\n",
    "            If Age is between 18 and 39 and BMI less than 17.49 or greater than 38.5, \n",
    "            provide quote as 750 USD \n",
    "\n",
    "            If Age is between 40 and 59 and BMI less than 18.49 or greater than 38.5, \n",
    "            provide quote as 1000 USD\n",
    "\n",
    "             If Age is greater than 60 and BMI less than 18.49 or BMI greater than 45.5, \n",
    "            provide quote as 2000 USD\n",
    "\n",
    "             Anything other than the above condition, give a quote of 500 USD and give \n",
    "            reason as “BMI is in right range”.\n",
    "\n",
    "            If Gender is Female, give a 10% discount on above quoted price\n",
    "\n",
    "            returns the cost \n",
    "        '''\n",
    "        cost = 0\n",
    "        discount_f = 10\n",
    "\n",
    "        if age in range(18, 39) and (bmi < 17.49 or bmi > 38.5):\n",
    "            cost = 750\n",
    "        elif age in range(40, 59) and (bmi < 18.49 or bmi > 38.5):\n",
    "            cost = 1000\n",
    "        elif 60 <= age and (bmi < 18.49 or bmi > 45.5):\n",
    "            cost = 2000\n",
    "        else:\n",
    "            cost = 500\n",
    "\n",
    "        if sex == \"Female\":\n",
    "            discount = (cost * discount_f / 100)\n",
    "            cost = cost - discount\n",
    "\n",
    "        return cost\n",
    "    \n",
    "    def impute_cost(self, df):\n",
    "        '''\n",
    "        df - test/train dataframe\n",
    "        '''\n",
    "        KEY_TARGET =  self.context.TARGET\n",
    "        df[KEY_TARGET] = df.apply(lambda x: self.calculate_cost(x.age, x.bmi, x.gender), axis=1)\n",
    "        return df\n",
    "\n",
    "    def impute(self):\n",
    "        print(\"Calculating cost\")\n",
    "        df_train, df_test = self.context.read_csv()\n",
    "        df_train = self.impute_cost(df_train)\n",
    "        df_test = self.impute_cost(df_test)\n",
    "        self.context.to_csv(df_train, df_test)\n",
    "        self.context.transition_to(CategoryImputer())\n",
    "        \n",
    "class CategoryImputer(Imputer):\n",
    "    \n",
    "    def encode(self, df, KEY):\n",
    "        '''\n",
    "        Encodes categorical feature to one hot encoding.\n",
    "        \n",
    "        df - test/train dataframe\n",
    "        KEY - name of the feature\n",
    "        '''\n",
    "        dummies = pd.get_dummies(df[KEY])\n",
    "        df_enc = pd.concat([df, dummies], axis=1)\n",
    "        df_enc.drop(KEY, inplace=True, axis=1)\n",
    "        df_enc.columns = map(str.lower, df_enc.columns)\n",
    "        return df_enc\n",
    "        \n",
    "    def impute(self):\n",
    "        print(\"Impute Category features\")\n",
    "        # this key can be generalized to accomodate more features\n",
    "        KEY = self.context.FEATURES.get('KEY_GENDER')\n",
    "        df_train, df_test = self.context.read_csv()\n",
    "        df_train_enc = self.encode(df_train, KEY)\n",
    "        df_test_enc = self.encode(df_test, KEY)\n",
    "        self.context.to_csv(df_train_enc, df_test_enc)\n",
    "        \n"
   ]
  },
  {
   "cell_type": "code",
   "execution_count": null,
   "metadata": {},
   "outputs": [],
   "source": []
  },
  {
   "cell_type": "code",
   "execution_count": 12,
   "metadata": {},
   "outputs": [
    {
     "name": "stdout",
     "output_type": "stream",
     "text": [
      "Context: Transition to FNameImputer\n",
      "renaming features\n",
      "Context: Transition to EmptyColImputer\n",
      "Removing empty columns\n",
      "Context: Transition to DuplicateImputer\n",
      "removing duplicate instances based on :app_id\n",
      "Context: Transition to MissingImputer\n",
      "Imputing missing values\n",
      "Context: Transition to OutlierHandler\n",
      "Removing outliers\n",
      "Context: Transition to HeightImputer\n",
      "Converting height from feet,inches to meter square\n",
      "Context: Transition to WeightImputer\n",
      "converting weight - pounds to kg\n",
      "Context: Transition to BMIImputer\n",
      "Calculate BMI\n",
      "Context: Transition to CostImputer\n",
      "Calculating cost\n",
      "Context: Transition to CategoryImputer\n",
      "Impute Category features\n"
     ]
    }
   ],
   "source": [
    "\n",
    "context = Context(FNameImputer())\n",
    "context.rename_features()\n",
    "context.impute_duplicate()\n",
    "context.impute_missing_values()\n",
    "context.remove_outliers()\n",
    "context.impute_null_cols()\n",
    "context.impute_height()\n",
    "context.impute_weight()\n",
    "context.impute_bmi()\n",
    "context.calculate_cost()\n",
    "context.impute_cat()\n",
    "\n",
    "    "
   ]
  },
  {
   "cell_type": "code",
   "execution_count": 13,
   "metadata": {},
   "outputs": [
    {
     "data": {
      "text/html": [
       "<style  type=\"text/css\" >\n",
       "#T_218cdf76_78d4_11ec_b71e_28cdc4579c06row0_col0,#T_218cdf76_78d4_11ec_b71e_28cdc4579c06row1_col1,#T_218cdf76_78d4_11ec_b71e_28cdc4579c06row2_col2,#T_218cdf76_78d4_11ec_b71e_28cdc4579c06row3_col3,#T_218cdf76_78d4_11ec_b71e_28cdc4579c06row4_col4,#T_218cdf76_78d4_11ec_b71e_28cdc4579c06row5_col5,#T_218cdf76_78d4_11ec_b71e_28cdc4579c06row6_col6,#T_218cdf76_78d4_11ec_b71e_28cdc4579c06row7_col7{\n",
       "            background-color:  #b40426;\n",
       "            color:  #f1f1f1;\n",
       "        }#T_218cdf76_78d4_11ec_b71e_28cdc4579c06row0_col1{\n",
       "            background-color:  #8caffe;\n",
       "            color:  #000000;\n",
       "        }#T_218cdf76_78d4_11ec_b71e_28cdc4579c06row0_col2{\n",
       "            background-color:  #89acfd;\n",
       "            color:  #000000;\n",
       "        }#T_218cdf76_78d4_11ec_b71e_28cdc4579c06row0_col3{\n",
       "            background-color:  #6687ed;\n",
       "            color:  #000000;\n",
       "        }#T_218cdf76_78d4_11ec_b71e_28cdc4579c06row0_col4{\n",
       "            background-color:  #b1cbfc;\n",
       "            color:  #000000;\n",
       "        }#T_218cdf76_78d4_11ec_b71e_28cdc4579c06row0_col5{\n",
       "            background-color:  #5572df;\n",
       "            color:  #000000;\n",
       "        }#T_218cdf76_78d4_11ec_b71e_28cdc4579c06row0_col6{\n",
       "            background-color:  #cedaeb;\n",
       "            color:  #000000;\n",
       "        }#T_218cdf76_78d4_11ec_b71e_28cdc4579c06row0_col7{\n",
       "            background-color:  #ead5c9;\n",
       "            color:  #000000;\n",
       "        }#T_218cdf76_78d4_11ec_b71e_28cdc4579c06row1_col0,#T_218cdf76_78d4_11ec_b71e_28cdc4579c06row4_col6{\n",
       "            background-color:  #b7cff9;\n",
       "            color:  #000000;\n",
       "        }#T_218cdf76_78d4_11ec_b71e_28cdc4579c06row1_col2{\n",
       "            background-color:  #9dbdff;\n",
       "            color:  #000000;\n",
       "        }#T_218cdf76_78d4_11ec_b71e_28cdc4579c06row1_col3{\n",
       "            background-color:  #6384eb;\n",
       "            color:  #000000;\n",
       "        }#T_218cdf76_78d4_11ec_b71e_28cdc4579c06row1_col4{\n",
       "            background-color:  #a6c4fe;\n",
       "            color:  #000000;\n",
       "        }#T_218cdf76_78d4_11ec_b71e_28cdc4579c06row1_col5{\n",
       "            background-color:  #a3c2fe;\n",
       "            color:  #000000;\n",
       "        }#T_218cdf76_78d4_11ec_b71e_28cdc4579c06row1_col6{\n",
       "            background-color:  #dcdddd;\n",
       "            color:  #000000;\n",
       "        }#T_218cdf76_78d4_11ec_b71e_28cdc4579c06row1_col7{\n",
       "            background-color:  #dddcdc;\n",
       "            color:  #000000;\n",
       "        }#T_218cdf76_78d4_11ec_b71e_28cdc4579c06row2_col0{\n",
       "            background-color:  #5a78e4;\n",
       "            color:  #000000;\n",
       "        }#T_218cdf76_78d4_11ec_b71e_28cdc4579c06row2_col1,#T_218cdf76_78d4_11ec_b71e_28cdc4579c06row2_col4,#T_218cdf76_78d4_11ec_b71e_28cdc4579c06row3_col1,#T_218cdf76_78d4_11ec_b71e_28cdc4579c06row4_col2,#T_218cdf76_78d4_11ec_b71e_28cdc4579c06row5_col0,#T_218cdf76_78d4_11ec_b71e_28cdc4579c06row6_col3,#T_218cdf76_78d4_11ec_b71e_28cdc4579c06row6_col5,#T_218cdf76_78d4_11ec_b71e_28cdc4579c06row6_col7,#T_218cdf76_78d4_11ec_b71e_28cdc4579c06row7_col6{\n",
       "            background-color:  #3b4cc0;\n",
       "            color:  #f1f1f1;\n",
       "        }#T_218cdf76_78d4_11ec_b71e_28cdc4579c06row2_col3{\n",
       "            background-color:  #455cce;\n",
       "            color:  #f1f1f1;\n",
       "        }#T_218cdf76_78d4_11ec_b71e_28cdc4579c06row2_col5{\n",
       "            background-color:  #86a9fc;\n",
       "            color:  #000000;\n",
       "        }#T_218cdf76_78d4_11ec_b71e_28cdc4579c06row2_col6{\n",
       "            background-color:  #e0dbd8;\n",
       "            color:  #000000;\n",
       "        }#T_218cdf76_78d4_11ec_b71e_28cdc4579c06row2_col7{\n",
       "            background-color:  #d9dce1;\n",
       "            color:  #000000;\n",
       "        }#T_218cdf76_78d4_11ec_b71e_28cdc4579c06row3_col0{\n",
       "            background-color:  #7396f5;\n",
       "            color:  #000000;\n",
       "        }#T_218cdf76_78d4_11ec_b71e_28cdc4579c06row3_col2{\n",
       "            background-color:  #81a4fb;\n",
       "            color:  #000000;\n",
       "        }#T_218cdf76_78d4_11ec_b71e_28cdc4579c06row3_col4{\n",
       "            background-color:  #c43032;\n",
       "            color:  #f1f1f1;\n",
       "        }#T_218cdf76_78d4_11ec_b71e_28cdc4579c06row3_col5{\n",
       "            background-color:  #f5c0a7;\n",
       "            color:  #000000;\n",
       "        }#T_218cdf76_78d4_11ec_b71e_28cdc4579c06row3_col6{\n",
       "            background-color:  #b5cdfa;\n",
       "            color:  #000000;\n",
       "        }#T_218cdf76_78d4_11ec_b71e_28cdc4579c06row3_col7{\n",
       "            background-color:  #f5c1a9;\n",
       "            color:  #000000;\n",
       "        }#T_218cdf76_78d4_11ec_b71e_28cdc4579c06row4_col0{\n",
       "            background-color:  #88abfd;\n",
       "            color:  #000000;\n",
       "        }#T_218cdf76_78d4_11ec_b71e_28cdc4579c06row4_col1{\n",
       "            background-color:  #465ecf;\n",
       "            color:  #f1f1f1;\n",
       "        }#T_218cdf76_78d4_11ec_b71e_28cdc4579c06row4_col3{\n",
       "            background-color:  #c83836;\n",
       "            color:  #f1f1f1;\n",
       "        }#T_218cdf76_78d4_11ec_b71e_28cdc4579c06row4_col5,#T_218cdf76_78d4_11ec_b71e_28cdc4579c06row4_col7,#T_218cdf76_78d4_11ec_b71e_28cdc4579c06row7_col5{\n",
       "            background-color:  #f5c4ac;\n",
       "            color:  #000000;\n",
       "        }#T_218cdf76_78d4_11ec_b71e_28cdc4579c06row5_col1,#T_218cdf76_78d4_11ec_b71e_28cdc4579c06row7_col1{\n",
       "            background-color:  #5977e3;\n",
       "            color:  #000000;\n",
       "        }#T_218cdf76_78d4_11ec_b71e_28cdc4579c06row5_col2{\n",
       "            background-color:  #9abbff;\n",
       "            color:  #000000;\n",
       "        }#T_218cdf76_78d4_11ec_b71e_28cdc4579c06row5_col3{\n",
       "            background-color:  #f0cdbb;\n",
       "            color:  #000000;\n",
       "        }#T_218cdf76_78d4_11ec_b71e_28cdc4579c06row5_col4{\n",
       "            background-color:  #f7bca1;\n",
       "            color:  #000000;\n",
       "        }#T_218cdf76_78d4_11ec_b71e_28cdc4579c06row5_col6{\n",
       "            background-color:  #94b6ff;\n",
       "            color:  #000000;\n",
       "        }#T_218cdf76_78d4_11ec_b71e_28cdc4579c06row5_col7{\n",
       "            background-color:  #f6a283;\n",
       "            color:  #000000;\n",
       "        }#T_218cdf76_78d4_11ec_b71e_28cdc4579c06row6_col0{\n",
       "            background-color:  #7093f3;\n",
       "            color:  #000000;\n",
       "        }#T_218cdf76_78d4_11ec_b71e_28cdc4579c06row6_col1{\n",
       "            background-color:  #5875e1;\n",
       "            color:  #000000;\n",
       "        }#T_218cdf76_78d4_11ec_b71e_28cdc4579c06row6_col2{\n",
       "            background-color:  #b9d0f9;\n",
       "            color:  #000000;\n",
       "        }#T_218cdf76_78d4_11ec_b71e_28cdc4579c06row6_col4{\n",
       "            background-color:  #7a9df8;\n",
       "            color:  #000000;\n",
       "        }#T_218cdf76_78d4_11ec_b71e_28cdc4579c06row7_col0{\n",
       "            background-color:  #a7c5fe;\n",
       "            color:  #000000;\n",
       "        }#T_218cdf76_78d4_11ec_b71e_28cdc4579c06row7_col2{\n",
       "            background-color:  #aec9fc;\n",
       "            color:  #000000;\n",
       "        }#T_218cdf76_78d4_11ec_b71e_28cdc4579c06row7_col3{\n",
       "            background-color:  #c9d7f0;\n",
       "            color:  #000000;\n",
       "        }#T_218cdf76_78d4_11ec_b71e_28cdc4579c06row7_col4{\n",
       "            background-color:  #e3d9d3;\n",
       "            color:  #000000;\n",
       "        }</style><table id=\"T_218cdf76_78d4_11ec_b71e_28cdc4579c06\" ><thead>    <tr>        <th class=\"blank level0\" ></th>        <th class=\"col_heading level0 col0\" >app_id</th>        <th class=\"col_heading level0 col1\" >age</th>        <th class=\"col_heading level0 col2\" >height</th>        <th class=\"col_heading level0 col3\" >weight</th>        <th class=\"col_heading level0 col4\" >bmi</th>        <th class=\"col_heading level0 col5\" >cost</th>        <th class=\"col_heading level0 col6\" >female</th>        <th class=\"col_heading level0 col7\" >male</th>    </tr></thead><tbody>\n",
       "                <tr>\n",
       "                        <th id=\"T_218cdf76_78d4_11ec_b71e_28cdc4579c06level0_row0\" class=\"row_heading level0 row0\" >app_id</th>\n",
       "                        <td id=\"T_218cdf76_78d4_11ec_b71e_28cdc4579c06row0_col0\" class=\"data row0 col0\" >1.000000</td>\n",
       "                        <td id=\"T_218cdf76_78d4_11ec_b71e_28cdc4579c06row0_col1\" class=\"data row0 col1\" >0.167745</td>\n",
       "                        <td id=\"T_218cdf76_78d4_11ec_b71e_28cdc4579c06row0_col2\" class=\"data row0 col2\" >-0.190853</td>\n",
       "                        <td id=\"T_218cdf76_78d4_11ec_b71e_28cdc4579c06row0_col3\" class=\"data row0 col3\" >-0.094715</td>\n",
       "                        <td id=\"T_218cdf76_78d4_11ec_b71e_28cdc4579c06row0_col4\" class=\"data row0 col4\" >-0.014748</td>\n",
       "                        <td id=\"T_218cdf76_78d4_11ec_b71e_28cdc4579c06row0_col5\" class=\"data row0 col5\" >-0.330169</td>\n",
       "                        <td id=\"T_218cdf76_78d4_11ec_b71e_28cdc4579c06row0_col6\" class=\"data row0 col6\" >-0.102689</td>\n",
       "                        <td id=\"T_218cdf76_78d4_11ec_b71e_28cdc4579c06row0_col7\" class=\"data row0 col7\" >0.102689</td>\n",
       "            </tr>\n",
       "            <tr>\n",
       "                        <th id=\"T_218cdf76_78d4_11ec_b71e_28cdc4579c06level0_row1\" class=\"row_heading level0 row1\" >age</th>\n",
       "                        <td id=\"T_218cdf76_78d4_11ec_b71e_28cdc4579c06row1_col0\" class=\"data row1 col0\" >0.167745</td>\n",
       "                        <td id=\"T_218cdf76_78d4_11ec_b71e_28cdc4579c06row1_col1\" class=\"data row1 col1\" >1.000000</td>\n",
       "                        <td id=\"T_218cdf76_78d4_11ec_b71e_28cdc4579c06row1_col2\" class=\"data row1 col2\" >-0.106950</td>\n",
       "                        <td id=\"T_218cdf76_78d4_11ec_b71e_28cdc4579c06row1_col3\" class=\"data row1 col3\" >-0.108711</td>\n",
       "                        <td id=\"T_218cdf76_78d4_11ec_b71e_28cdc4579c06row1_col4\" class=\"data row1 col4\" >-0.063621</td>\n",
       "                        <td id=\"T_218cdf76_78d4_11ec_b71e_28cdc4579c06row1_col5\" class=\"data row1 col5\" >0.001523</td>\n",
       "                        <td id=\"T_218cdf76_78d4_11ec_b71e_28cdc4579c06row1_col6\" class=\"data row1 col6\" >-0.002165</td>\n",
       "                        <td id=\"T_218cdf76_78d4_11ec_b71e_28cdc4579c06row1_col7\" class=\"data row1 col7\" >0.002165</td>\n",
       "            </tr>\n",
       "            <tr>\n",
       "                        <th id=\"T_218cdf76_78d4_11ec_b71e_28cdc4579c06level0_row2\" class=\"row_heading level0 row2\" >height</th>\n",
       "                        <td id=\"T_218cdf76_78d4_11ec_b71e_28cdc4579c06row2_col0\" class=\"data row2 col0\" >-0.190853</td>\n",
       "                        <td id=\"T_218cdf76_78d4_11ec_b71e_28cdc4579c06row2_col1\" class=\"data row2 col1\" >-0.106950</td>\n",
       "                        <td id=\"T_218cdf76_78d4_11ec_b71e_28cdc4579c06row2_col2\" class=\"data row2 col2\" >1.000000</td>\n",
       "                        <td id=\"T_218cdf76_78d4_11ec_b71e_28cdc4579c06row2_col3\" class=\"data row2 col3\" >-0.225183</td>\n",
       "                        <td id=\"T_218cdf76_78d4_11ec_b71e_28cdc4579c06row2_col4\" class=\"data row2 col4\" >-0.567363</td>\n",
       "                        <td id=\"T_218cdf76_78d4_11ec_b71e_28cdc4579c06row2_col5\" class=\"data row2 col5\" >-0.118928</td>\n",
       "                        <td id=\"T_218cdf76_78d4_11ec_b71e_28cdc4579c06row2_col6\" class=\"data row2 col6\" >0.024237</td>\n",
       "                        <td id=\"T_218cdf76_78d4_11ec_b71e_28cdc4579c06row2_col7\" class=\"data row2 col7\" >-0.024237</td>\n",
       "            </tr>\n",
       "            <tr>\n",
       "                        <th id=\"T_218cdf76_78d4_11ec_b71e_28cdc4579c06level0_row3\" class=\"row_heading level0 row3\" >weight</th>\n",
       "                        <td id=\"T_218cdf76_78d4_11ec_b71e_28cdc4579c06row3_col0\" class=\"data row3 col0\" >-0.094715</td>\n",
       "                        <td id=\"T_218cdf76_78d4_11ec_b71e_28cdc4579c06row3_col1\" class=\"data row3 col1\" >-0.108711</td>\n",
       "                        <td id=\"T_218cdf76_78d4_11ec_b71e_28cdc4579c06row3_col2\" class=\"data row3 col2\" >-0.225183</td>\n",
       "                        <td id=\"T_218cdf76_78d4_11ec_b71e_28cdc4579c06row3_col3\" class=\"data row3 col3\" >1.000000</td>\n",
       "                        <td id=\"T_218cdf76_78d4_11ec_b71e_28cdc4579c06row3_col4\" class=\"data row3 col4\" >0.928215</td>\n",
       "                        <td id=\"T_218cdf76_78d4_11ec_b71e_28cdc4579c06row3_col5\" class=\"data row3 col5\" >0.473571</td>\n",
       "                        <td id=\"T_218cdf76_78d4_11ec_b71e_28cdc4579c06row3_col6\" class=\"data row3 col6\" >-0.272985</td>\n",
       "                        <td id=\"T_218cdf76_78d4_11ec_b71e_28cdc4579c06row3_col7\" class=\"data row3 col7\" >0.272985</td>\n",
       "            </tr>\n",
       "            <tr>\n",
       "                        <th id=\"T_218cdf76_78d4_11ec_b71e_28cdc4579c06level0_row4\" class=\"row_heading level0 row4\" >bmi</th>\n",
       "                        <td id=\"T_218cdf76_78d4_11ec_b71e_28cdc4579c06row4_col0\" class=\"data row4 col0\" >-0.014748</td>\n",
       "                        <td id=\"T_218cdf76_78d4_11ec_b71e_28cdc4579c06row4_col1\" class=\"data row4 col1\" >-0.063621</td>\n",
       "                        <td id=\"T_218cdf76_78d4_11ec_b71e_28cdc4579c06row4_col2\" class=\"data row4 col2\" >-0.567363</td>\n",
       "                        <td id=\"T_218cdf76_78d4_11ec_b71e_28cdc4579c06row4_col3\" class=\"data row4 col3\" >0.928215</td>\n",
       "                        <td id=\"T_218cdf76_78d4_11ec_b71e_28cdc4579c06row4_col4\" class=\"data row4 col4\" >1.000000</td>\n",
       "                        <td id=\"T_218cdf76_78d4_11ec_b71e_28cdc4579c06row4_col5\" class=\"data row4 col5\" >0.458071</td>\n",
       "                        <td id=\"T_218cdf76_78d4_11ec_b71e_28cdc4579c06row4_col6\" class=\"data row4 col6\" >-0.255642</td>\n",
       "                        <td id=\"T_218cdf76_78d4_11ec_b71e_28cdc4579c06row4_col7\" class=\"data row4 col7\" >0.255642</td>\n",
       "            </tr>\n",
       "            <tr>\n",
       "                        <th id=\"T_218cdf76_78d4_11ec_b71e_28cdc4579c06level0_row5\" class=\"row_heading level0 row5\" >cost</th>\n",
       "                        <td id=\"T_218cdf76_78d4_11ec_b71e_28cdc4579c06row5_col0\" class=\"data row5 col0\" >-0.330169</td>\n",
       "                        <td id=\"T_218cdf76_78d4_11ec_b71e_28cdc4579c06row5_col1\" class=\"data row5 col1\" >0.001523</td>\n",
       "                        <td id=\"T_218cdf76_78d4_11ec_b71e_28cdc4579c06row5_col2\" class=\"data row5 col2\" >-0.118928</td>\n",
       "                        <td id=\"T_218cdf76_78d4_11ec_b71e_28cdc4579c06row5_col3\" class=\"data row5 col3\" >0.473571</td>\n",
       "                        <td id=\"T_218cdf76_78d4_11ec_b71e_28cdc4579c06row5_col4\" class=\"data row5 col4\" >0.458071</td>\n",
       "                        <td id=\"T_218cdf76_78d4_11ec_b71e_28cdc4579c06row5_col5\" class=\"data row5 col5\" >1.000000</td>\n",
       "                        <td id=\"T_218cdf76_78d4_11ec_b71e_28cdc4579c06row5_col6\" class=\"data row5 col6\" >-0.458552</td>\n",
       "                        <td id=\"T_218cdf76_78d4_11ec_b71e_28cdc4579c06row5_col7\" class=\"data row5 col7\" >0.458552</td>\n",
       "            </tr>\n",
       "            <tr>\n",
       "                        <th id=\"T_218cdf76_78d4_11ec_b71e_28cdc4579c06level0_row6\" class=\"row_heading level0 row6\" >female</th>\n",
       "                        <td id=\"T_218cdf76_78d4_11ec_b71e_28cdc4579c06row6_col0\" class=\"data row6 col0\" >-0.102689</td>\n",
       "                        <td id=\"T_218cdf76_78d4_11ec_b71e_28cdc4579c06row6_col1\" class=\"data row6 col1\" >-0.002165</td>\n",
       "                        <td id=\"T_218cdf76_78d4_11ec_b71e_28cdc4579c06row6_col2\" class=\"data row6 col2\" >0.024237</td>\n",
       "                        <td id=\"T_218cdf76_78d4_11ec_b71e_28cdc4579c06row6_col3\" class=\"data row6 col3\" >-0.272985</td>\n",
       "                        <td id=\"T_218cdf76_78d4_11ec_b71e_28cdc4579c06row6_col4\" class=\"data row6 col4\" >-0.255642</td>\n",
       "                        <td id=\"T_218cdf76_78d4_11ec_b71e_28cdc4579c06row6_col5\" class=\"data row6 col5\" >-0.458552</td>\n",
       "                        <td id=\"T_218cdf76_78d4_11ec_b71e_28cdc4579c06row6_col6\" class=\"data row6 col6\" >1.000000</td>\n",
       "                        <td id=\"T_218cdf76_78d4_11ec_b71e_28cdc4579c06row6_col7\" class=\"data row6 col7\" >-1.000000</td>\n",
       "            </tr>\n",
       "            <tr>\n",
       "                        <th id=\"T_218cdf76_78d4_11ec_b71e_28cdc4579c06level0_row7\" class=\"row_heading level0 row7\" >male</th>\n",
       "                        <td id=\"T_218cdf76_78d4_11ec_b71e_28cdc4579c06row7_col0\" class=\"data row7 col0\" >0.102689</td>\n",
       "                        <td id=\"T_218cdf76_78d4_11ec_b71e_28cdc4579c06row7_col1\" class=\"data row7 col1\" >0.002165</td>\n",
       "                        <td id=\"T_218cdf76_78d4_11ec_b71e_28cdc4579c06row7_col2\" class=\"data row7 col2\" >-0.024237</td>\n",
       "                        <td id=\"T_218cdf76_78d4_11ec_b71e_28cdc4579c06row7_col3\" class=\"data row7 col3\" >0.272985</td>\n",
       "                        <td id=\"T_218cdf76_78d4_11ec_b71e_28cdc4579c06row7_col4\" class=\"data row7 col4\" >0.255642</td>\n",
       "                        <td id=\"T_218cdf76_78d4_11ec_b71e_28cdc4579c06row7_col5\" class=\"data row7 col5\" >0.458552</td>\n",
       "                        <td id=\"T_218cdf76_78d4_11ec_b71e_28cdc4579c06row7_col6\" class=\"data row7 col6\" >-1.000000</td>\n",
       "                        <td id=\"T_218cdf76_78d4_11ec_b71e_28cdc4579c06row7_col7\" class=\"data row7 col7\" >1.000000</td>\n",
       "            </tr>\n",
       "    </tbody></table>"
      ],
      "text/plain": [
       "<pandas.io.formats.style.Styler at 0x2ab415a5790>"
      ]
     },
     "execution_count": 13,
     "metadata": {},
     "output_type": "execute_result"
    }
   ],
   "source": [
    "df_base = pd.read_csv(\"Imputed-Data-Train.csv\")\n",
    "corr = df_base.corr()\n",
    "# plot the heatmap\n",
    "corr.style.background_gradient(cmap='coolwarm')"
   ]
  },
  {
   "cell_type": "markdown",
   "metadata": {},
   "source": [
    "outliers in features: height, weight are removed."
   ]
  },
  {
   "cell_type": "code",
   "execution_count": 14,
   "metadata": {},
   "outputs": [
    {
     "data": {
      "text/plain": [
       "<AxesSubplot:>"
      ]
     },
     "execution_count": 14,
     "metadata": {},
     "output_type": "execute_result"
    },
    {
     "data": {
      "image/png": "[encoded data removed]",
      "text/plain": [
       "<Figure size 432x288 with 1 Axes>"
      ]
     },
     "metadata": {
      "needs_background": "light"
     },
     "output_type": "display_data"
    }
   ],
   "source": [
    " df_base.boxplot(column=['height'])"
   ]
  },
  {
   "cell_type": "code",
   "execution_count": 15,
   "metadata": {},
   "outputs": [
    {
     "data": {
      "text/plain": [
       "<AxesSubplot:>"
      ]
     },
     "execution_count": 15,
     "metadata": {},
     "output_type": "execute_result"
    },
    {
     "data": {
      "image/png": "[encoded data removed]",
      "text/plain": [
       "<Figure size 432x288 with 1 Axes>"
      ]
     },
     "metadata": {
      "needs_background": "light"
     },
     "output_type": "display_data"
    }
   ],
   "source": [
    " df_base.boxplot(column=['weight'])"
   ]
  },
  {
   "cell_type": "code",
   "execution_count": 16,
   "metadata": {},
   "outputs": [
    {
     "data": {
      "text/plain": [
       "<AxesSubplot:>"
      ]
     },
     "execution_count": 16,
     "metadata": {},
     "output_type": "execute_result"
    },
    {
     "data": {
      "image/png": "[encoded data removed]",
      "text/plain": [
       "<Figure size 432x288 with 1 Axes>"
      ]
     },
     "metadata": {
      "needs_background": "light"
     },
     "output_type": "display_data"
    }
   ],
   "source": [
    " df_base.boxplot(column=['age'])"
   ]
  },
  {
   "cell_type": "code",
   "execution_count": 17,
   "metadata": {},
   "outputs": [
    {
     "data": {
      "text/plain": [
       "<AxesSubplot:>"
      ]
     },
     "execution_count": 17,
     "metadata": {},
     "output_type": "execute_result"
    },
    {
     "data": {
      "image/png": "[encoded data removed]",
      "text/plain": [
       "<Figure size 432x288 with 1 Axes>"
      ]
     },
     "metadata": {
      "needs_background": "light"
     },
     "output_type": "display_data"
    }
   ],
   "source": [
    " df_base.boxplot(column=['bmi'])"
   ]
  },
  {
   "cell_type": "markdown",
   "metadata": {},
   "source": [
    "### Model"
   ]
  },
  {
   "cell_type": "code",
   "execution_count": 18,
   "metadata": {},
   "outputs": [
    {
     "name": "stdout",
     "output_type": "stream",
     "text": [
      "Fitting 5 folds for each of 6 candidates, totalling 30 fits\n"
     ]
    },
    {
     "name": "stderr",
     "output_type": "stream",
     "text": [
      "[Parallel(n_jobs=-1)]: Using backend LokyBackend with 8 concurrent workers.\n"
     ]
    },
    {
     "name": "stdout",
     "output_type": "stream",
     "text": [
      "Predictions on training data: [428.75182756 477.91885667 522.96944493 488.00622423 561.21046757\n",
      " 477.91885667 539.35845463 539.35845463 501.11743199 423.28882433\n",
      " 474.89501647 428.75182756 495.65442876 412.36281786 539.35845463\n",
      " 488.84486314 477.91885667 533.8954514  477.91885667 510.69687607\n",
      " 537.17325334 539.35845463 439.67783403 461.52984697 423.28882433\n",
      " 506.58043523 539.35845463 539.35845463 506.58043523 486.65966184\n",
      " 488.84486314 466.9928502  528.43244816 539.35845463 501.11743199\n",
      " 483.3818599  534.98805205 506.58043523 517.5064417  423.28882433\n",
      " 533.8954514  477.91885667 456.06684373 479.26541906 539.35845463\n",
      " 539.35845463 506.58043523 449.51123985 490.19142553 488.84486314\n",
      " 561.21046757 539.35845463 539.35845463 566.6734708  544.82145787\n",
      " 588.52548374 539.35845463 472.45585343 466.9928502 ]\n",
      "Actuals on test data: 0     500.0\n",
      "1     500.0\n",
      "2     450.0\n",
      "3     750.0\n",
      "4     500.0\n",
      "5     500.0\n",
      "6     450.0\n",
      "7     450.0\n",
      "8     500.0\n",
      "9     450.0\n",
      "10    500.0\n",
      "11    675.0\n",
      "12    450.0\n",
      "13    500.0\n",
      "Name: cost, dtype: float64\n",
      "Predictions on test data: [495.65442876 539.35845463 428.75182756 573.22907468 522.96944493\n",
      " 506.58043523 488.84486314 450.6038405  537.17325334 488.84486314\n",
      " 539.35845463 521.62288254 472.45585343 473.80241582]\n"
     ]
    },
    {
     "name": "stderr",
     "output_type": "stream",
     "text": [
      "[Parallel(n_jobs=-1)]: Done  30 out of  30 | elapsed:   19.7s finished\n"
     ]
    }
   ],
   "source": [
    "#target variable\n",
    "TARGET = \"cost\"\n",
    "# primary key of an instance\n",
    "PRIMARY_KEY = \"app_id\"\n",
    "#remove strongly corr fetures for better generalization\n",
    "STRONG_CORR_FEATURES = \"bmi\"\n",
    "\n",
    "df_train = pd.read_csv(DataFile.TRAIN_F_NAME)\n",
    "df_test = pd.read_csv(DataFile.TEST_F_NAME)\n",
    "seed=45\n",
    "#split test & training data\n",
    "X_train =  df_train.drop([TARGET, PRIMARY_KEY, STRONG_CORR_FEATURES], axis=1)\n",
    "y_train = df_train[TARGET]\n",
    "X_test = df_test.drop([TARGET, PRIMARY_KEY, STRONG_CORR_FEATURES], axis=1)\n",
    "y_test =  df_test[TARGET]\n",
    "\n",
    "\n",
    "\n",
    "alpha = [0.001, 0.01, 0.1, 1, 10, 100]\n",
    "param_grid = dict(alpha=alpha)\n",
    "\n",
    "pipe = Pipeline([\n",
    "    ('standard scaler', StandardScaler()),\n",
    "    #('GS LR', GridSearchCV(LinearRegression(), param_grid={})),\n",
    "    ('GS Lasso', GridSearchCV(estimator=Lasso(), param_grid=param_grid, scoring='r2', verbose=2, n_jobs=-1))\n",
    "])\n",
    "pipe.fit(X_train, y_train)\n",
    "# Predict training data\n",
    "y_train_pred = pipe.predict(X_train)\n",
    "# Predict test data\n",
    "y_test_pred = pipe.predict(X_test)"
   ]
  },
  {
   "cell_type": "code",
   "execution_count": 19,
   "metadata": {},
   "outputs": [
    {
     "name": "stdout",
     "output_type": "stream",
     "text": [
      "Mean squared error: 4607.33\n",
      "Coefficient of determination: 0.38\n"
     ]
    }
   ],
   "source": [
    "# The mean squared error\n",
    "print(\"Mean squared error: %.2f\" % mean_squared_error(y_test, y_test_pred))\n",
    "# The coefficient of determination: 1 is perfect prediction\n",
    "print(\"Coefficient of determination: %.2f\" % r2_score(y_test, y_test_pred))"
   ]
  },
  {
   "cell_type": "code",
   "execution_count": 20,
   "metadata": {},
   "outputs": [
    {
     "name": "stdout",
     "output_type": "stream",
     "text": [
      "Mean squared error: 5709.90\n",
      "Coefficient of determination: 0.32\n"
     ]
    }
   ],
   "source": [
    "# The mean squared error\n",
    "print(\"Mean squared error: %.2f\" % mean_squared_error(y_train, y_train_pred))\n",
    "# The coefficient of determination: 1 is perfect prediction\n",
    "print(\"Coefficient of determination: %.2f\" % r2_score(y_train, y_train_pred))"
   ]
  },
  {
   "cell_type": "markdown",
   "metadata": {},
   "source": [
    "#### Observation:\n",
    "    While removing the outliers(IQR method) on the features - height, weight\n",
    "        IQR .25, .75 lead to a negative coefficient of determination, which is a worst fit of regression line\n",
    "        IQR .15, .85 lead to a positive coefficient of determination, which turned towards a good fit of regression line\n",
    "    \n",
    "    bmi & weight are the strongly co-related features. dropping bmi helped to move towards a good fit, where as weight havent helped.\n",
    "    \n"
   ]
  },
  {
   "cell_type": "code",
   "execution_count": null,
   "metadata": {},
   "outputs": [],
   "source": []
  }
 ],
 "metadata": {
  "kernelspec": {
   "display_name": "Python 3",
   "language": "python",
   "name": "python3"
  },
  "language_info": {
   "codemirror_mode": {
    "name": "ipython",
    "version": 3
   },
   "file_extension": ".py",
   "mimetype": "text/x-python",
   "name": "python",
   "nbconvert_exporter": "python",
   "pygments_lexer": "ipython3",
   "version": "3.8.10"
  }
 },
 "nbformat": 4,
 "nbformat_minor": 4
}
